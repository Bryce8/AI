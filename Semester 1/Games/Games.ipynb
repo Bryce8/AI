{
 "cells": [
  {
   "cell_type": "code",
   "execution_count": 1,
   "id": "bf6b3774",
   "metadata": {},
   "outputs": [],
   "source": [
    "import pandas as pd\n",
    "import seaborn as sns"
   ]
  },
  {
   "cell_type": "code",
   "execution_count": 2,
   "id": "a83acef8",
   "metadata": {},
   "outputs": [],
   "source": [
    "df = pd.read_json(\"games.json\")"
   ]
  },
  {
   "cell_type": "code",
   "execution_count": 3,
   "id": "30d21a85",
   "metadata": {},
   "outputs": [
    {
     "data": {
      "text/html": [
       "<div>\n",
       "<style scoped>\n",
       "    .dataframe tbody tr th:only-of-type {\n",
       "        vertical-align: middle;\n",
       "    }\n",
       "\n",
       "    .dataframe tbody tr th {\n",
       "        vertical-align: top;\n",
       "    }\n",
       "\n",
       "    .dataframe thead th {\n",
       "        text-align: right;\n",
       "    }\n",
       "</style>\n",
       "<table border=\"1\" class=\"dataframe\">\n",
       "  <thead>\n",
       "    <tr style=\"text-align: right;\">\n",
       "      <th></th>\n",
       "      <th>ID</th>\n",
       "      <th>name</th>\n",
       "      <th>release_date</th>\n",
       "      <th>estimated_owners</th>\n",
       "      <th>peak_ccu</th>\n",
       "      <th>required_age</th>\n",
       "      <th>price</th>\n",
       "      <th>dlc_count</th>\n",
       "      <th>main_description</th>\n",
       "      <th>supported_languages</th>\n",
       "      <th>...</th>\n",
       "      <th>average_playtime_forever</th>\n",
       "      <th>average_playtime_2weeks</th>\n",
       "      <th>median_playtime_forever</th>\n",
       "      <th>packages</th>\n",
       "      <th>developers</th>\n",
       "      <th>publishers</th>\n",
       "      <th>categories</th>\n",
       "      <th>genres</th>\n",
       "      <th>tags</th>\n",
       "      <th>screenshots</th>\n",
       "    </tr>\n",
       "  </thead>\n",
       "  <tbody>\n",
       "    <tr>\n",
       "      <th>0</th>\n",
       "      <td>20200</td>\n",
       "      <td>Galactic Bowling</td>\n",
       "      <td>Oct 21, 2008</td>\n",
       "      <td>0 - 20000</td>\n",
       "      <td>0</td>\n",
       "      <td>0</td>\n",
       "      <td>19.99</td>\n",
       "      <td>0</td>\n",
       "      <td>Galactic Bowling is an exaggerated and stylize...</td>\n",
       "      <td>['English']</td>\n",
       "      <td>...</td>\n",
       "      <td>0</td>\n",
       "      <td>0</td>\n",
       "      <td>0</td>\n",
       "      <td>0</td>\n",
       "      <td>Perpetual FX Creative</td>\n",
       "      <td>Perpetual FX Creative</td>\n",
       "      <td>Single-player,Multi-player,Steam Achievements,...</td>\n",
       "      <td>Casual,Indie,Sports</td>\n",
       "      <td>Indie,Casual,Sports,Bowling</td>\n",
       "      <td>https://cdn.akamai.steamstatic.com/steam/apps/...</td>\n",
       "    </tr>\n",
       "    <tr>\n",
       "      <th>1</th>\n",
       "      <td>655370</td>\n",
       "      <td>Train Bandit</td>\n",
       "      <td>Oct 12, 2017</td>\n",
       "      <td>0 - 20000</td>\n",
       "      <td>0</td>\n",
       "      <td>0</td>\n",
       "      <td>0.99</td>\n",
       "      <td>0</td>\n",
       "      <td>THE LAW!! Looks to be a showdown atop a train....</td>\n",
       "      <td>['English', 'French', 'Italian', 'German', 'Sp...</td>\n",
       "      <td>...</td>\n",
       "      <td>0</td>\n",
       "      <td>0</td>\n",
       "      <td>0</td>\n",
       "      <td>0</td>\n",
       "      <td>Rusty Moyher</td>\n",
       "      <td>Wild Rooster</td>\n",
       "      <td>Single-player,Steam Achievements,Full controll...</td>\n",
       "      <td>Action,Indie</td>\n",
       "      <td>Indie,Action,Pixel Graphics,2D,Retro,Arcade,Sc...</td>\n",
       "      <td>https://cdn.akamai.steamstatic.com/steam/apps/...</td>\n",
       "    </tr>\n",
       "    <tr>\n",
       "      <th>2</th>\n",
       "      <td>1732930</td>\n",
       "      <td>Jolt Project</td>\n",
       "      <td>Nov 17, 2021</td>\n",
       "      <td>0 - 20000</td>\n",
       "      <td>0</td>\n",
       "      <td>0</td>\n",
       "      <td>4.99</td>\n",
       "      <td>0</td>\n",
       "      <td>Jolt Project: The army now has a new robotics ...</td>\n",
       "      <td>['English', 'Portuguese - Brazil']</td>\n",
       "      <td>...</td>\n",
       "      <td>0</td>\n",
       "      <td>0</td>\n",
       "      <td>0</td>\n",
       "      <td>0</td>\n",
       "      <td>Campião Games</td>\n",
       "      <td>Campião Games</td>\n",
       "      <td>Single-player</td>\n",
       "      <td>Action,Adventure,Indie,Strategy</td>\n",
       "      <td>None</td>\n",
       "      <td>https://cdn.akamai.steamstatic.com/steam/apps/...</td>\n",
       "    </tr>\n",
       "    <tr>\n",
       "      <th>3</th>\n",
       "      <td>1355720</td>\n",
       "      <td>Henosis™</td>\n",
       "      <td>Jul 23, 2020</td>\n",
       "      <td>0 - 20000</td>\n",
       "      <td>0</td>\n",
       "      <td>0</td>\n",
       "      <td>5.99</td>\n",
       "      <td>0</td>\n",
       "      <td>HENOSIS™ is a mysterious 2D Platform Puzzler w...</td>\n",
       "      <td>['English', 'French', 'Italian', 'German', 'Sp...</td>\n",
       "      <td>...</td>\n",
       "      <td>0</td>\n",
       "      <td>0</td>\n",
       "      <td>0</td>\n",
       "      <td>0</td>\n",
       "      <td>Odd Critter Games</td>\n",
       "      <td>Odd Critter Games</td>\n",
       "      <td>Single-player,Full controller support</td>\n",
       "      <td>Adventure,Casual,Indie</td>\n",
       "      <td>2D Platformer,Atmospheric,Surreal,Mystery,Puzz...</td>\n",
       "      <td>https://cdn.akamai.steamstatic.com/steam/apps/...</td>\n",
       "    </tr>\n",
       "    <tr>\n",
       "      <th>4</th>\n",
       "      <td>1139950</td>\n",
       "      <td>Two Weeks in Painland</td>\n",
       "      <td>Feb 3, 2020</td>\n",
       "      <td>0 - 20000</td>\n",
       "      <td>0</td>\n",
       "      <td>0</td>\n",
       "      <td>0.00</td>\n",
       "      <td>0</td>\n",
       "      <td>ABOUT THE GAME Play as a hacker who has arrang...</td>\n",
       "      <td>['English', 'Spanish - Spain']</td>\n",
       "      <td>...</td>\n",
       "      <td>0</td>\n",
       "      <td>0</td>\n",
       "      <td>0</td>\n",
       "      <td>0</td>\n",
       "      <td>Unusual Games</td>\n",
       "      <td>Unusual Games</td>\n",
       "      <td>Single-player,Steam Achievements</td>\n",
       "      <td>Adventure,Indie</td>\n",
       "      <td>Indie,Adventure,Nudity,Violent,Sexual Content,...</td>\n",
       "      <td>https://cdn.akamai.steamstatic.com/steam/apps/...</td>\n",
       "    </tr>\n",
       "  </tbody>\n",
       "</table>\n",
       "<p>5 rows × 38 columns</p>\n",
       "</div>"
      ],
      "text/plain": [
       "        ID                   name  release_date estimated_owners  peak_ccu  \\\n",
       "0    20200       Galactic Bowling  Oct 21, 2008        0 - 20000         0   \n",
       "1   655370           Train Bandit  Oct 12, 2017        0 - 20000         0   \n",
       "2  1732930           Jolt Project  Nov 17, 2021        0 - 20000         0   \n",
       "3  1355720               Henosis™  Jul 23, 2020        0 - 20000         0   \n",
       "4  1139950  Two Weeks in Painland   Feb 3, 2020        0 - 20000         0   \n",
       "\n",
       "   required_age  price  dlc_count  \\\n",
       "0             0  19.99          0   \n",
       "1             0   0.99          0   \n",
       "2             0   4.99          0   \n",
       "3             0   5.99          0   \n",
       "4             0   0.00          0   \n",
       "\n",
       "                                    main_description  \\\n",
       "0  Galactic Bowling is an exaggerated and stylize...   \n",
       "1  THE LAW!! Looks to be a showdown atop a train....   \n",
       "2  Jolt Project: The army now has a new robotics ...   \n",
       "3  HENOSIS™ is a mysterious 2D Platform Puzzler w...   \n",
       "4  ABOUT THE GAME Play as a hacker who has arrang...   \n",
       "\n",
       "                                 supported_languages  ...  \\\n",
       "0                                        ['English']  ...   \n",
       "1  ['English', 'French', 'Italian', 'German', 'Sp...  ...   \n",
       "2                 ['English', 'Portuguese - Brazil']  ...   \n",
       "3  ['English', 'French', 'Italian', 'German', 'Sp...  ...   \n",
       "4                     ['English', 'Spanish - Spain']  ...   \n",
       "\n",
       "  average_playtime_forever average_playtime_2weeks median_playtime_forever  \\\n",
       "0                        0                       0                       0   \n",
       "1                        0                       0                       0   \n",
       "2                        0                       0                       0   \n",
       "3                        0                       0                       0   \n",
       "4                        0                       0                       0   \n",
       "\n",
       "  packages             developers             publishers  \\\n",
       "0        0  Perpetual FX Creative  Perpetual FX Creative   \n",
       "1        0           Rusty Moyher           Wild Rooster   \n",
       "2        0          Campião Games          Campião Games   \n",
       "3        0      Odd Critter Games      Odd Critter Games   \n",
       "4        0          Unusual Games          Unusual Games   \n",
       "\n",
       "                                          categories  \\\n",
       "0  Single-player,Multi-player,Steam Achievements,...   \n",
       "1  Single-player,Steam Achievements,Full controll...   \n",
       "2                                      Single-player   \n",
       "3              Single-player,Full controller support   \n",
       "4                   Single-player,Steam Achievements   \n",
       "\n",
       "                            genres  \\\n",
       "0              Casual,Indie,Sports   \n",
       "1                     Action,Indie   \n",
       "2  Action,Adventure,Indie,Strategy   \n",
       "3           Adventure,Casual,Indie   \n",
       "4                  Adventure,Indie   \n",
       "\n",
       "                                                tags  \\\n",
       "0                        Indie,Casual,Sports,Bowling   \n",
       "1  Indie,Action,Pixel Graphics,2D,Retro,Arcade,Sc...   \n",
       "2                                               None   \n",
       "3  2D Platformer,Atmospheric,Surreal,Mystery,Puzz...   \n",
       "4  Indie,Adventure,Nudity,Violent,Sexual Content,...   \n",
       "\n",
       "                                         screenshots  \n",
       "0  https://cdn.akamai.steamstatic.com/steam/apps/...  \n",
       "1  https://cdn.akamai.steamstatic.com/steam/apps/...  \n",
       "2  https://cdn.akamai.steamstatic.com/steam/apps/...  \n",
       "3  https://cdn.akamai.steamstatic.com/steam/apps/...  \n",
       "4  https://cdn.akamai.steamstatic.com/steam/apps/...  \n",
       "\n",
       "[5 rows x 38 columns]"
      ]
     },
     "execution_count": 3,
     "metadata": {},
     "output_type": "execute_result"
    }
   ],
   "source": [
    "df.head()"
   ]
  },
  {
   "cell_type": "code",
   "execution_count": 4,
   "id": "6e2e5781",
   "metadata": {},
   "outputs": [
    {
     "data": {
      "text/html": [
       "<div>\n",
       "<style scoped>\n",
       "    .dataframe tbody tr th:only-of-type {\n",
       "        vertical-align: middle;\n",
       "    }\n",
       "\n",
       "    .dataframe tbody tr th {\n",
       "        vertical-align: top;\n",
       "    }\n",
       "\n",
       "    .dataframe thead th {\n",
       "        text-align: right;\n",
       "    }\n",
       "</style>\n",
       "<table border=\"1\" class=\"dataframe\">\n",
       "  <thead>\n",
       "    <tr style=\"text-align: right;\">\n",
       "      <th></th>\n",
       "      <th>ID</th>\n",
       "      <th>name</th>\n",
       "      <th>release_date</th>\n",
       "      <th>estimated_owners</th>\n",
       "      <th>peak_ccu</th>\n",
       "      <th>required_age</th>\n",
       "      <th>price</th>\n",
       "      <th>dlc_count</th>\n",
       "      <th>main_description</th>\n",
       "      <th>supported_languages</th>\n",
       "      <th>...</th>\n",
       "      <th>average_playtime_forever</th>\n",
       "      <th>average_playtime_2weeks</th>\n",
       "      <th>median_playtime_forever</th>\n",
       "      <th>packages</th>\n",
       "      <th>developers</th>\n",
       "      <th>publishers</th>\n",
       "      <th>categories</th>\n",
       "      <th>genres</th>\n",
       "      <th>tags</th>\n",
       "      <th>screenshots</th>\n",
       "    </tr>\n",
       "  </thead>\n",
       "  <tbody>\n",
       "    <tr>\n",
       "      <th>1025</th>\n",
       "      <td>22380</td>\n",
       "      <td>Fallout: New Vegas</td>\n",
       "      <td>Oct 19, 2010</td>\n",
       "      <td>2000000 - 5000000</td>\n",
       "      <td>5776</td>\n",
       "      <td>16</td>\n",
       "      <td>9.99</td>\n",
       "      <td>0</td>\n",
       "      <td>Welcome to Vegas. New Vegas. It’s the kind of ...</td>\n",
       "      <td>['English', 'French', 'German', 'Italian', 'Sp...</td>\n",
       "      <td>...</td>\n",
       "      <td>3044</td>\n",
       "      <td>112</td>\n",
       "      <td>976</td>\n",
       "      <td>153</td>\n",
       "      <td>Obsidian Entertainment</td>\n",
       "      <td>Bethesda Softworks</td>\n",
       "      <td>Single-player,Steam Achievements,Partial Contr...</td>\n",
       "      <td>Action,RPG</td>\n",
       "      <td>Open World,RPG,Post-apocalyptic,Singleplayer,M...</td>\n",
       "      <td>https://cdn.akamai.steamstatic.com/steam/apps/...</td>\n",
       "    </tr>\n",
       "  </tbody>\n",
       "</table>\n",
       "<p>1 rows × 38 columns</p>\n",
       "</div>"
      ],
      "text/plain": [
       "         ID                name  release_date   estimated_owners  peak_ccu  \\\n",
       "1025  22380  Fallout: New Vegas  Oct 19, 2010  2000000 - 5000000      5776   \n",
       "\n",
       "      required_age  price  dlc_count  \\\n",
       "1025            16   9.99          0   \n",
       "\n",
       "                                       main_description  \\\n",
       "1025  Welcome to Vegas. New Vegas. It’s the kind of ...   \n",
       "\n",
       "                                    supported_languages  ...  \\\n",
       "1025  ['English', 'French', 'German', 'Italian', 'Sp...  ...   \n",
       "\n",
       "     average_playtime_forever average_playtime_2weeks median_playtime_forever  \\\n",
       "1025                     3044                     112                     976   \n",
       "\n",
       "     packages              developers          publishers  \\\n",
       "1025      153  Obsidian Entertainment  Bethesda Softworks   \n",
       "\n",
       "                                             categories      genres  \\\n",
       "1025  Single-player,Steam Achievements,Partial Contr...  Action,RPG   \n",
       "\n",
       "                                                   tags  \\\n",
       "1025  Open World,RPG,Post-apocalyptic,Singleplayer,M...   \n",
       "\n",
       "                                            screenshots  \n",
       "1025  https://cdn.akamai.steamstatic.com/steam/apps/...  \n",
       "\n",
       "[1 rows x 38 columns]"
      ]
     },
     "execution_count": 4,
     "metadata": {},
     "output_type": "execute_result"
    }
   ],
   "source": [
    "df[df[\"ID\"] == 22380]"
   ]
  },
  {
   "cell_type": "code",
   "execution_count": 14,
   "id": "f0b63448",
   "metadata": {},
   "outputs": [
    {
     "data": {
      "text/plain": [
       "ID                                                                      22380\n",
       "name                                                       Fallout: New Vegas\n",
       "release_date                                                     Oct 19, 2010\n",
       "estimated_owners                                            2000000 - 5000000\n",
       "peak_ccu                                                                 5776\n",
       "required_age                                                               16\n",
       "price                                                                    9.99\n",
       "dlc_count                                                                   0\n",
       "main_description            Welcome to Vegas. New Vegas. It’s the kind of ...\n",
       "supported_languages         ['English', 'French', 'German', 'Italian', 'Sp...\n",
       "full_audio_languages                                                       []\n",
       "reviews                                                                  None\n",
       "header_image                https://cdn.akamai.steamstatic.com/steam/apps/...\n",
       "website                                           http://fallout.bethsoft.com\n",
       "support_url                                      http://support.bethsoft.com/\n",
       "support_email                                                            None\n",
       "windows                                                                  True\n",
       "mac                                                                     False\n",
       "linux                                                                   False\n",
       "metacritic_score                                                           84\n",
       "metacriticURL               https://www.metacritic.com/game/pc/fallout-new...\n",
       "user_score                                                                  0\n",
       "positive                                                               154845\n",
       "negative                                                                 5667\n",
       "score_rank                                                                NaN\n",
       "achievements                                                               75\n",
       "recommendations                                                        127087\n",
       "notes                                                                    None\n",
       "average_playtime_forever                                                 3044\n",
       "average_playtime_2weeks                                                   112\n",
       "median_playtime_forever                                                   976\n",
       "packages                                                                  153\n",
       "developers                                             Obsidian Entertainment\n",
       "publishers                                                 Bethesda Softworks\n",
       "categories                  Single-player,Steam Achievements,Partial Contr...\n",
       "genres                                                             Action,RPG\n",
       "tags                        Open World,RPG,Post-apocalyptic,Singleplayer,M...\n",
       "screenshots                 https://cdn.akamai.steamstatic.com/steam/apps/...\n",
       "Name: 1025, dtype: object"
      ]
     },
     "execution_count": 14,
     "metadata": {},
     "output_type": "execute_result"
    }
   ],
   "source": [
    "df.loc[1025]"
   ]
  },
  {
   "cell_type": "markdown",
   "id": "f727f036",
   "metadata": {},
   "source": [
    "The game with ID 22380 is Fallout: New Vegas. It was released in October of 2010. It was developed by Obsidian Entertainment and published by Bethesda Softworks. "
   ]
  },
  {
   "cell_type": "code",
   "execution_count": 15,
   "id": "3699bb56",
   "metadata": {},
   "outputs": [
    {
     "data": {
      "text/plain": [
       "ID                                                                       7940\n",
       "name                                         Call of Duty® 4: Modern Warfare®\n",
       "release_date                                                     Nov 12, 2007\n",
       "estimated_owners                                            1000000 - 2000000\n",
       "peak_ccu                                                                  495\n",
       "required_age                                                               17\n",
       "price                                                                    9.99\n",
       "dlc_count                                                                   0\n",
       "main_description            The new action-thriller from the award-winning...\n",
       "supported_languages         ['English', 'French', 'German', 'Italian', 'Sp...\n",
       "full_audio_languages                                                       []\n",
       "reviews                     Winner of more than 40 E3 2007 awards : Editor...\n",
       "header_image                https://cdn.akamai.steamstatic.com/steam/apps/...\n",
       "website                                     http://www.charlieoscardelta.com/\n",
       "support_url                                    http://support.activision.com/\n",
       "support_email                                                            None\n",
       "windows                                                                  True\n",
       "mac                                                                      True\n",
       "linux                                                                   False\n",
       "metacritic_score                                                           92\n",
       "metacriticURL               https://www.metacritic.com/game/pc/call-of-dut...\n",
       "user_score                                                                  0\n",
       "positive                                                                16788\n",
       "negative                                                                 1211\n",
       "score_rank                                                                NaN\n",
       "achievements                                                                0\n",
       "recommendations                                                         13997\n",
       "notes                                                                    None\n",
       "average_playtime_forever                                                 1034\n",
       "average_playtime_2weeks                                                    51\n",
       "median_playtime_forever                                                   449\n",
       "packages                                                                   51\n",
       "developers                                                      Infinity Ward\n",
       "publishers                                                         Activision\n",
       "categories                                         Single-player,Multi-player\n",
       "genres                                                                 Action\n",
       "tags                        FPS,Action,Multiplayer,Shooter,Singleplayer,Fi...\n",
       "screenshots                 https://cdn.akamai.steamstatic.com/steam/apps/...\n",
       "Name: 136, dtype: object"
      ]
     },
     "execution_count": 15,
     "metadata": {},
     "output_type": "execute_result"
    }
   ],
   "source": [
    "df.loc[136]    "
   ]
  },
  {
   "cell_type": "code",
   "execution_count": 16,
   "id": "67638f7b",
   "metadata": {
    "scrolled": true
   },
   "outputs": [
    {
     "data": {
      "text/plain": [
       "<AxesSubplot:xlabel='price', ylabel='metacritic_score'>"
      ]
     },
     "execution_count": 16,
     "metadata": {},
     "output_type": "execute_result"
    },
    {
     "data": {
      "image/png": "[encoded data removed]",
      "text/plain": [
       "<Figure size 640x480 with 1 Axes>"
      ]
     },
     "metadata": {},
     "output_type": "display_data"
    }
   ],
   "source": [
    "sns.scatterplot(data=df, x=\"price\", y=\"metacritic_score\")"
   ]
  },
  {
   "cell_type": "code",
   "execution_count": 8,
   "id": "972b78b0",
   "metadata": {},
   "outputs": [
    {
     "data": {
      "text/plain": [
       "7.08626157478198"
      ]
     },
     "execution_count": 8,
     "metadata": {},
     "output_type": "execute_result"
    }
   ],
   "source": [
    "df[\"price\"].mean()"
   ]
  },
  {
   "cell_type": "code",
   "execution_count": 9,
   "id": "ed0e81d0",
   "metadata": {
    "scrolled": true
   },
   "outputs": [
    {
     "data": {
      "text/html": [
       "<div>\n",
       "<style scoped>\n",
       "    .dataframe tbody tr th:only-of-type {\n",
       "        vertical-align: middle;\n",
       "    }\n",
       "\n",
       "    .dataframe tbody tr th {\n",
       "        vertical-align: top;\n",
       "    }\n",
       "\n",
       "    .dataframe thead th {\n",
       "        text-align: right;\n",
       "    }\n",
       "</style>\n",
       "<table border=\"1\" class=\"dataframe\">\n",
       "  <thead>\n",
       "    <tr style=\"text-align: right;\">\n",
       "      <th></th>\n",
       "      <th>ID</th>\n",
       "      <th>name</th>\n",
       "      <th>release_date</th>\n",
       "      <th>estimated_owners</th>\n",
       "      <th>peak_ccu</th>\n",
       "      <th>required_age</th>\n",
       "      <th>price</th>\n",
       "      <th>dlc_count</th>\n",
       "      <th>main_description</th>\n",
       "      <th>supported_languages</th>\n",
       "      <th>...</th>\n",
       "      <th>average_playtime_forever</th>\n",
       "      <th>average_playtime_2weeks</th>\n",
       "      <th>median_playtime_forever</th>\n",
       "      <th>packages</th>\n",
       "      <th>developers</th>\n",
       "      <th>publishers</th>\n",
       "      <th>categories</th>\n",
       "      <th>genres</th>\n",
       "      <th>tags</th>\n",
       "      <th>screenshots</th>\n",
       "    </tr>\n",
       "  </thead>\n",
       "  <tbody>\n",
       "    <tr>\n",
       "      <th>81901</th>\n",
       "      <td>2499620</td>\n",
       "      <td>The Leverage Game</td>\n",
       "      <td>Aug 25, 2023</td>\n",
       "      <td>0 - 20000</td>\n",
       "      <td>0</td>\n",
       "      <td>0</td>\n",
       "      <td>999.98</td>\n",
       "      <td>0</td>\n",
       "      <td>The Leverage Game is a board game in which pla...</td>\n",
       "      <td>['English', 'Japanese']</td>\n",
       "      <td>...</td>\n",
       "      <td>0</td>\n",
       "      <td>0</td>\n",
       "      <td>0</td>\n",
       "      <td>0</td>\n",
       "      <td>A&amp;S Inc.</td>\n",
       "      <td>A&amp;S Inc.</td>\n",
       "      <td>Single-player,Multi-player,PvP,Online PvP</td>\n",
       "      <td>Indie,Simulation</td>\n",
       "      <td>None</td>\n",
       "      <td>https://cdn.akamai.steamstatic.com/steam/apps/...</td>\n",
       "    </tr>\n",
       "    <tr>\n",
       "      <th>82971</th>\n",
       "      <td>2504210</td>\n",
       "      <td>The Leverage Game Business Edition</td>\n",
       "      <td>Aug 26, 2023</td>\n",
       "      <td>0 - 20000</td>\n",
       "      <td>0</td>\n",
       "      <td>0</td>\n",
       "      <td>999.98</td>\n",
       "      <td>0</td>\n",
       "      <td>The Leverage Game is a board game in which pla...</td>\n",
       "      <td>['English', 'Japanese']</td>\n",
       "      <td>...</td>\n",
       "      <td>0</td>\n",
       "      <td>0</td>\n",
       "      <td>0</td>\n",
       "      <td>0</td>\n",
       "      <td>A&amp;S Inc.</td>\n",
       "      <td>A&amp;S Inc.</td>\n",
       "      <td>Single-player,Multi-player,PvP</td>\n",
       "      <td>Indie,Simulation</td>\n",
       "      <td>None</td>\n",
       "      <td>https://cdn.akamai.steamstatic.com/steam/apps/...</td>\n",
       "    </tr>\n",
       "  </tbody>\n",
       "</table>\n",
       "<p>2 rows × 38 columns</p>\n",
       "</div>"
      ],
      "text/plain": [
       "            ID                                name  release_date  \\\n",
       "81901  2499620                   The Leverage Game  Aug 25, 2023   \n",
       "82971  2504210  The Leverage Game Business Edition  Aug 26, 2023   \n",
       "\n",
       "      estimated_owners  peak_ccu  required_age   price  dlc_count  \\\n",
       "81901        0 - 20000         0             0  999.98          0   \n",
       "82971        0 - 20000         0             0  999.98          0   \n",
       "\n",
       "                                        main_description  \\\n",
       "81901  The Leverage Game is a board game in which pla...   \n",
       "82971  The Leverage Game is a board game in which pla...   \n",
       "\n",
       "           supported_languages  ... average_playtime_forever  \\\n",
       "81901  ['English', 'Japanese']  ...                        0   \n",
       "82971  ['English', 'Japanese']  ...                        0   \n",
       "\n",
       "      average_playtime_2weeks median_playtime_forever packages developers  \\\n",
       "81901                       0                       0        0   A&S Inc.   \n",
       "82971                       0                       0        0   A&S Inc.   \n",
       "\n",
       "      publishers                                 categories            genres  \\\n",
       "81901   A&S Inc.  Single-player,Multi-player,PvP,Online PvP  Indie,Simulation   \n",
       "82971   A&S Inc.             Single-player,Multi-player,PvP  Indie,Simulation   \n",
       "\n",
       "       tags                                        screenshots  \n",
       "81901  None  https://cdn.akamai.steamstatic.com/steam/apps/...  \n",
       "82971  None  https://cdn.akamai.steamstatic.com/steam/apps/...  \n",
       "\n",
       "[2 rows x 38 columns]"
      ]
     },
     "execution_count": 9,
     "metadata": {},
     "output_type": "execute_result"
    }
   ],
   "source": [
    "df[df[\"price\"] == 999.98]"
   ]
  },
  {
   "cell_type": "code",
   "execution_count": 10,
   "id": "ca39d4e2",
   "metadata": {},
   "outputs": [],
   "source": [
    "# Index is 81901\n",
    "# Index is 82971\n",
    "\n",
    "dfCleaned = df.drop([81901, 82971], inplace=True)"
   ]
  },
  {
   "cell_type": "code",
   "execution_count": 11,
   "id": "f2b02e9e",
   "metadata": {},
   "outputs": [],
   "source": [
    "dfCleaned = df.drop([26936])\n",
    "dfCleaned = dfCleaned.reset_index()"
   ]
  },
  {
   "cell_type": "code",
   "execution_count": 12,
   "id": "82a2780d",
   "metadata": {},
   "outputs": [
    {
     "data": {
      "text/html": [
       "<div>\n",
       "<style scoped>\n",
       "    .dataframe tbody tr th:only-of-type {\n",
       "        vertical-align: middle;\n",
       "    }\n",
       "\n",
       "    .dataframe tbody tr th {\n",
       "        vertical-align: top;\n",
       "    }\n",
       "\n",
       "    .dataframe thead th {\n",
       "        text-align: right;\n",
       "    }\n",
       "</style>\n",
       "<table border=\"1\" class=\"dataframe\">\n",
       "  <thead>\n",
       "    <tr style=\"text-align: right;\">\n",
       "      <th></th>\n",
       "      <th>ID</th>\n",
       "      <th>name</th>\n",
       "      <th>release_date</th>\n",
       "      <th>estimated_owners</th>\n",
       "      <th>peak_ccu</th>\n",
       "      <th>required_age</th>\n",
       "      <th>price</th>\n",
       "      <th>dlc_count</th>\n",
       "      <th>main_description</th>\n",
       "      <th>supported_languages</th>\n",
       "      <th>...</th>\n",
       "      <th>average_playtime_forever</th>\n",
       "      <th>average_playtime_2weeks</th>\n",
       "      <th>median_playtime_forever</th>\n",
       "      <th>packages</th>\n",
       "      <th>developers</th>\n",
       "      <th>publishers</th>\n",
       "      <th>categories</th>\n",
       "      <th>genres</th>\n",
       "      <th>tags</th>\n",
       "      <th>screenshots</th>\n",
       "    </tr>\n",
       "  </thead>\n",
       "  <tbody>\n",
       "  </tbody>\n",
       "</table>\n",
       "<p>0 rows × 38 columns</p>\n",
       "</div>"
      ],
      "text/plain": [
       "Empty DataFrame\n",
       "Columns: [ID, name, release_date, estimated_owners, peak_ccu, required_age, price, dlc_count, main_description, supported_languages, full_audio_languages, reviews, header_image, website, support_url, support_email, windows, mac, linux, metacritic_score, metacriticURL, user_score, positive, negative, score_rank, achievements, recommendations, notes, average_playtime_forever, average_playtime_2weeks, median_playtime_forever, packages, developers, publishers, categories, genres, tags, screenshots]\n",
       "Index: []\n",
       "\n",
       "[0 rows x 38 columns]"
      ]
     },
     "execution_count": 12,
     "metadata": {},
     "output_type": "execute_result"
    }
   ],
   "source": [
    "dfCleaned[\"price\"].max()\n",
    "df[df[\"price\"] == 999.98]"
   ]
  },
  {
   "cell_type": "code",
   "execution_count": 13,
   "id": "58a1cb4e",
   "metadata": {},
   "outputs": [
    {
     "data": {
      "text/plain": [
       "<AxesSubplot:xlabel='price', ylabel='metacritic_score'>"
      ]
     },
     "execution_count": 13,
     "metadata": {},
     "output_type": "execute_result"
    },
    {
     "data": {
      "image/png": "[encoded data removed]",
      "text/plain": [
       "<Figure size 640x480 with 1 Axes>"
      ]
     },
     "metadata": {},
     "output_type": "display_data"
    }
   ],
   "source": [
    "sns.scatterplot(data=dfCleaned, x=\"price\", y=\"metacritic_score\")"
   ]
  },
  {
   "cell_type": "markdown",
   "id": "73cf9dec",
   "metadata": {},
   "source": [
    "There are a few outliers in price, one being The Leverage Game. This game costs 999.98 dollars, which is well above the cost of most video games.The average price for games is ~7 dollars! "
   ]
  },
  {
   "cell_type": "code",
   "execution_count": 17,
   "id": "6c35d068",
   "metadata": {},
   "outputs": [
    {
     "data": {
      "text/plain": [
       "<AxesSubplot:xlabel='price', ylabel='recommendations'>"
      ]
     },
     "execution_count": 17,
     "metadata": {},
     "output_type": "execute_result"
    },
    {
     "data": {
      "image/png": "[encoded data removed]",
      "text/plain": [
       "<Figure size 640x480 with 1 Axes>"
      ]
     },
     "metadata": {},
     "output_type": "display_data"
    }
   ],
   "source": [
    "sns.scatterplot(data=df, x=\"price\", y=\"recommendations\")"
   ]
  },
  {
   "cell_type": "code",
   "execution_count": 19,
   "id": "defc4430",
   "metadata": {},
   "outputs": [
    {
     "name": "stdout",
     "output_type": "stream",
     "text": [
      "Price Lower Bound: 228.47422651083724, Price Upper Bound: 780.8478405606818\n",
      "Recommendations Lower Bound: 18.65205623593452, Recommendations Upper Bound: 82.36844442286862\n",
      "Outliers in price: \n",
      "Empty DataFrame\n",
      "Columns: [price, recommendations]\n",
      "Index: []\n",
      "Outliers in recommendations: \n",
      "Empty DataFrame\n",
      "Columns: [price, recommendations]\n",
      "Index: []\n",
      "Outliers in both price and recommendations: \n",
      "Empty DataFrame\n",
      "Columns: [price, recommendations]\n",
      "Index: []\n"
     ]
    },
    {
     "data": {
      "image/png": "[encoded data removed]",
      "text/plain": [
       "<Figure size 640x480 with 1 Axes>"
      ]
     },
     "metadata": {},
     "output_type": "display_data"
    }
   ],
   "source": [
    "import pandas as pd\n",
    "import numpy as np\n",
    "import matplotlib.pyplot as plt\n",
    "\n",
    "# Example DataFrame with 'price' and 'recommendations' columns\n",
    "np.random.seed(0)\n",
    "df = pd.DataFrame({\n",
    "    'price': np.random.randn(100) * 100 + 500,  # Example prices around 500\n",
    "    'recommendations': np.random.randn(100) * 10 + 50  # Example recommendations around 50\n",
    "})\n",
    "\n",
    "# Function to calculate IQR, lower, and upper bounds\n",
    "def calculate_iqr_bounds(column):\n",
    "    Q1 = column.quantile(0.25)\n",
    "    Q3 = column.quantile(0.75)\n",
    "    IQR = Q3 - Q1\n",
    "    lower_bound = Q1 - 1.5 * IQR\n",
    "    upper_bound = Q3 + 1.5 * IQR\n",
    "    return lower_bound, upper_bound\n",
    "\n",
    "# Calculate bounds for 'price' and 'recommendations'\n",
    "price_lower_bound, price_upper_bound = calculate_iqr_bounds(df['price'])\n",
    "recommendations_lower_bound, recommendations_upper_bound = calculate_iqr_bounds(df['recommendations'])\n",
    "\n",
    "# Identify outliers in both 'price' and 'recommendations'\n",
    "outliers_price = df[(df['price'] < price_lower_bound) | (df['price'] > price_upper_bound)]\n",
    "outliers_recommendations = df[(df['recommendations'] < recommendations_lower_bound) | (df['recommendations'] > recommendations_upper_bound)]\n",
    "outliers_both = df[((df['price'] < price_lower_bound) | (df['price'] > price_upper_bound)) |\n",
    "                   ((df['recommendations'] < recommendations_lower_bound) | (df['recommendations'] > recommendations_upper_bound))]\n",
    "\n",
    "# Print the results\n",
    "print(f\"Price Lower Bound: {price_lower_bound}, Price Upper Bound: {price_upper_bound}\")\n",
    "print(f\"Recommendations Lower Bound: {recommendations_lower_bound}, Recommendations Upper Bound: {recommendations_upper_bound}\")\n",
    "print(f\"Outliers in price: \\n{outliers_price}\")\n",
    "print(f\"Outliers in recommendations: \\n{outliers_recommendations}\")\n",
    "print(f\"Outliers in both price and recommendations: \\n{outliers_both}\")\n",
    "\n",
    "# Plot data with outliers in both axes highlighted\n",
    "plt.scatter(df['price'], df['recommendations'], label='Data')\n",
    "plt.scatter(outliers_both['price'], outliers_both['recommendations'], color='r', label='Outliers')\n",
    "plt.axvline(x=price_lower_bound, color='g', linestyle='--', label='Price Lower Bound')\n",
    "plt.axvline(x=price_upper_bound, color='b', linestyle='--', label='Price Upper Bound')\n",
    "plt.axhline(y=recommendations_lower_bound, color='g', linestyle='--', label='Recommendations Lower Bound')\n",
    "plt.axhline(y=recommendations_upper_bound, color='b', linestyle='--', label='Recommendations Upper Bound')\n",
    "plt.title('Outlier Detection using IQR (Price and Recommendations)')\n",
    "plt.xlabel('Price')\n",
    "plt.ylabel('Recommendations')\n",
    "\n",
    "# Place the legend outside the graph, to the top right\n",
    "plt.legend(bbox_to_anchor=(1.05, 1), loc='upper left', borderaxespad=0.)\n",
    "\n",
    "# Adjust the layout to prevent clipping of the legend\n",
    "plt.tight_layout()\n",
    "\n",
    "# Show the plot\n",
    "plt.show()\n"
   ]
  },
  {
   "cell_type": "code",
   "execution_count": null,
   "id": "2f491f60",
   "metadata": {},
   "outputs": [],
   "source": []
  }
 ],
 "metadata": {
  "kernelspec": {
   "display_name": "Python 3 (ipykernel)",
   "language": "python",
   "name": "python3"
  },
  "language_info": {
   "codemirror_mode": {
    "name": "ipython",
    "version": 3
   },
   "file_extension": ".py",
   "mimetype": "text/x-python",
   "name": "python",
   "nbconvert_exporter": "python",
   "pygments_lexer": "ipython3",
   "version": "3.9.13"
  }
 },
 "nbformat": 4,
 "nbformat_minor": 5
}
