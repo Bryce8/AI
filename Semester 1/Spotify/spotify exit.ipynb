{
 "cells": [
  {
   "cell_type": "markdown",
   "id": "c6f92e49",
   "metadata": {},
   "source": [
    "import pandas as pd\n",
    "import seaborn as sns\n",
    "df =  pd.read_csv('spotify2023.csv', encoding = \"ISO-8859-1\")\n",
    "\n",
    "df[\"in_apple_charts\"] = pd.to_numeric(df[\"in_apple_charts\"], errors=\"coerce\")\n",
    "sns.histplot(data=df, x=\"in_apple_charts\", bins=50)\n"
   ]
  },
  {
   "cell_type": "code",
   "execution_count": 4,
   "id": "c9cedba1",
   "metadata": {},
   "outputs": [
    {
     "data": {
      "text/plain": [
       "{'max': 275, 'Q3': 87.0, 'Median': 38.0, 'Q1': 7.0, 'Min': 0}"
      ]
     },
     "execution_count": 4,
     "metadata": {},
     "output_type": "execute_result"
    }
   ],
   "source": [
    "Max = df[\"in_apple_charts\"].max()\n",
    "Q3 = df[\"in_apple_charts\"].quantile(.75)\n",
    "Median = df[\"in_apple_charts\"].median()\n",
    "Q1 = df[\"in_apple_charts\"].quantile(.25)\n",
    "Min = df[\"in_apple_charts\"].min()\n",
    "\n",
    "summary = {\n",
    "    \"max\" : Max,\n",
    "    \"Q3\" : Q3,\n",
    "    \"Median\":Median,\n",
    "    \"Q1\" : Q1,\n",
    "    \"Min\": Min\n",
    "}\n",
    "\n",
    "summary"
   ]
  },
  {
   "cell_type": "markdown",
   "id": "0ad6f8b5",
   "metadata": {},
   "source": [
    "#"
   ]
  },
  {
   "cell_type": "markdown",
   "id": "651d0acc",
   "metadata": {},
   "source": [
    "# the group of plays in the apple chart that is the max is 275, the Quartile 3 is 87.0, the median is 38.0, the Quartile 1 is 7.0, and the minimum is 0"
   ]
  },
  {
   "cell_type": "code",
   "execution_count": null,
   "id": "0b2528c1",
   "metadata": {},
   "outputs": [],
   "source": []
  }
 ],
 "metadata": {
  "kernelspec": {
   "display_name": "Python 3 (ipykernel)",
   "language": "python",
   "name": "python3"
  },
  "language_info": {
   "codemirror_mode": {
    "name": "ipython",
    "version": 3
   },
   "file_extension": ".py",
   "mimetype": "text/x-python",
   "name": "python",
   "nbconvert_exporter": "python",
   "pygments_lexer": "ipython3",
   "version": "3.9.13"
  }
 },
 "nbformat": 4,
 "nbformat_minor": 5
}
