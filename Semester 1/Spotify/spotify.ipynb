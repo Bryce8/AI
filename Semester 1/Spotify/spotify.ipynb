{
 "cells": [
  {
   "cell_type": "code",
   "execution_count": 6,
   "id": "da857ae0",
   "metadata": {},
   "outputs": [
    {
     "name": "stdout",
     "output_type": "stream",
     "text": [
      "Index(['Track', 'Album Name', 'Artist', 'Release Date', 'ISRC',\n",
      "       'All Time Rank', 'Track Score', 'Spotify Streams',\n",
      "       'Spotify Playlist Count', 'Spotify Playlist Reach',\n",
      "       'Spotify Popularity', 'YouTube Views', 'YouTube Likes', 'TikTok Posts',\n",
      "       'TikTok Likes', 'TikTok Views', 'YouTube Playlist Reach',\n",
      "       'Apple Music Playlist Count', 'AirPlay Spins', 'SiriusXM Spins',\n",
      "       'Deezer Playlist Count', 'Deezer Playlist Reach',\n",
      "       'Amazon Playlist Count', 'Pandora Streams', 'Pandora Track Stations',\n",
      "       'Soundcloud Streams', 'Shazam Counts', 'TIDAL Popularity',\n",
      "       'Explicit Track'],\n",
      "      dtype='object')\n"
     ]
    }
   ],
   "source": [
    "import pandas as pd\n",
    "import seaborn as sns\n",
    "df =  pd.read_csv('spotify2024.csv', encoding = \"ISO-8859-1\")\n",
    "\n",
    "types = df.columns\n",
    "print(types)\n",
    "\n",
    "'''\n",
    "checkTypes = {\"Data\":[],\n",
    "             \"Type\": []}\n",
    "\n",
    "for i in range(len(types)):'''\n",
    "    "
   ]
  },
  {
   "cell_type": "code",
   "execution_count": null,
   "id": "65d8b0da",
   "metadata": {},
   "outputs": [],
   "source": [
    "monthCount = {\"Jan\": 0 ,\"Feb\" : 0, \"Mar\":0,\"Apr\": 0, \"May\":0,\"Jun\":0,\"Jul\":0,\"Aug\" : 0,\"Sep\":0,\"Oct\":0,\"Nov\":0,\"Sep\":0}\n",
    "monthlist = list(monthCount.items())\n",
    "for date in df[\"Release Date\"]:\n",
    "    month = date.split(\"/\")[0]\n",
    "    monthCount"
   ]
  }
 ],
 "metadata": {
  "kernelspec": {
   "display_name": "Python 3 (ipykernel)",
   "language": "python",
   "name": "python3"
  },
  "language_info": {
   "codemirror_mode": {
    "name": "ipython",
    "version": 3
   },
   "file_extension": ".py",
   "mimetype": "text/x-python",
   "name": "python",
   "nbconvert_exporter": "python",
   "pygments_lexer": "ipython3",
   "version": "3.9.13"
  }
 },
 "nbformat": 4,
 "nbformat_minor": 5
}
