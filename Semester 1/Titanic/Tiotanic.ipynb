{
 "cells": [
  {
   "cell_type": "code",
   "execution_count": 3,
   "id": "b3de54c3",
   "metadata": {},
   "outputs": [
    {
     "name": "stdout",
     "output_type": "stream",
     "text": [
      "     PassengerId  Survived  Pclass  \\\n",
      "0              1         0       3   \n",
      "1              2         1       1   \n",
      "2              3         1       3   \n",
      "3              4         1       1   \n",
      "4              5         0       3   \n",
      "..           ...       ...     ...   \n",
      "886          887         0       2   \n",
      "887          888         1       1   \n",
      "888          889         0       3   \n",
      "889          890         1       1   \n",
      "890          891         0       3   \n",
      "\n",
      "                                                  Name     Sex   Age  SibSp  \\\n",
      "0                              Braund, Mr. Owen Harris    male  22.0      1   \n",
      "1    Cumings, Mrs. John Bradley (Florence Briggs Th...  female  38.0      1   \n",
      "2                               Heikkinen, Miss. Laina  female  26.0      0   \n",
      "3         Futrelle, Mrs. Jacques Heath (Lily May Peel)  female  35.0      1   \n",
      "4                             Allen, Mr. William Henry    male  35.0      0   \n",
      "..                                                 ...     ...   ...    ...   \n",
      "886                              Montvila, Rev. Juozas    male  27.0      0   \n",
      "887                       Graham, Miss. Margaret Edith  female  19.0      0   \n",
      "888           Johnston, Miss. Catherine Helen \"Carrie\"  female   NaN      1   \n",
      "889                              Behr, Mr. Karl Howell    male  26.0      0   \n",
      "890                                Dooley, Mr. Patrick    male  32.0      0   \n",
      "\n",
      "     Parch            Ticket     Fare Cabin Embarked  \n",
      "0        0         A/5 21171   7.2500   NaN        S  \n",
      "1        0          PC 17599  71.2833   C85        C  \n",
      "2        0  STON/O2. 3101282   7.9250   NaN        S  \n",
      "3        0            113803  53.1000  C123        S  \n",
      "4        0            373450   8.0500   NaN        S  \n",
      "..     ...               ...      ...   ...      ...  \n",
      "886      0            211536  13.0000   NaN        S  \n",
      "887      0            112053  30.0000   B42        S  \n",
      "888      2        W./C. 6607  23.4500   NaN        S  \n",
      "889      0            111369  30.0000  C148        C  \n",
      "890      0            370376   7.7500   NaN        Q  \n",
      "\n",
      "[891 rows x 12 columns]\n"
     ]
    }
   ],
   "source": [
    "import pandas as pd\n",
    "\n",
    "df = pd.read_csv(\"titanic.csv\")\n",
    "\n",
    "print(df)"
   ]
  },
  {
   "cell_type": "code",
   "execution_count": 67,
   "id": "053f98ca",
   "metadata": {},
   "outputs": [
    {
     "data": {
      "text/plain": [
       "Index(['PassengerId', 'Survived', 'Pclass', 'Name', 'Sex', 'Age', 'SibSp',\n",
       "       'Parch', 'Ticket', 'Fare', 'Cabin', 'Embarked'],\n",
       "      dtype='object')"
      ]
     },
     "execution_count": 67,
     "metadata": {},
     "output_type": "execute_result"
    }
   ],
   "source": [
    "df.columns"
   ]
  },
  {
   "cell_type": "code",
   "execution_count": 68,
   "id": "bf518cf9",
   "metadata": {},
   "outputs": [
    {
     "data": {
      "text/html": [
       "<div>\n",
       "<style scoped>\n",
       "    .dataframe tbody tr th:only-of-type {\n",
       "        vertical-align: middle;\n",
       "    }\n",
       "\n",
       "    .dataframe tbody tr th {\n",
       "        vertical-align: top;\n",
       "    }\n",
       "\n",
       "    .dataframe thead th {\n",
       "        text-align: right;\n",
       "    }\n",
       "</style>\n",
       "<table border=\"1\" class=\"dataframe\">\n",
       "  <thead>\n",
       "    <tr style=\"text-align: right;\">\n",
       "      <th></th>\n",
       "      <th>PassengerId</th>\n",
       "      <th>Survived</th>\n",
       "      <th>Pclass</th>\n",
       "      <th>Name</th>\n",
       "      <th>Sex</th>\n",
       "      <th>Age</th>\n",
       "      <th>SibSp</th>\n",
       "      <th>Parch</th>\n",
       "      <th>Ticket</th>\n",
       "      <th>Fare</th>\n",
       "      <th>Cabin</th>\n",
       "      <th>Embarked</th>\n",
       "    </tr>\n",
       "  </thead>\n",
       "  <tbody>\n",
       "    <tr>\n",
       "      <th>0</th>\n",
       "      <td>1</td>\n",
       "      <td>0</td>\n",
       "      <td>3</td>\n",
       "      <td>Braund, Mr. Owen Harris</td>\n",
       "      <td>male</td>\n",
       "      <td>22.0</td>\n",
       "      <td>1</td>\n",
       "      <td>0</td>\n",
       "      <td>A/5 21171</td>\n",
       "      <td>7.2500</td>\n",
       "      <td>NaN</td>\n",
       "      <td>S</td>\n",
       "    </tr>\n",
       "    <tr>\n",
       "      <th>1</th>\n",
       "      <td>2</td>\n",
       "      <td>1</td>\n",
       "      <td>1</td>\n",
       "      <td>Cumings, Mrs. John Bradley (Florence Briggs Th...</td>\n",
       "      <td>female</td>\n",
       "      <td>38.0</td>\n",
       "      <td>1</td>\n",
       "      <td>0</td>\n",
       "      <td>PC 17599</td>\n",
       "      <td>71.2833</td>\n",
       "      <td>C85</td>\n",
       "      <td>C</td>\n",
       "    </tr>\n",
       "    <tr>\n",
       "      <th>2</th>\n",
       "      <td>3</td>\n",
       "      <td>1</td>\n",
       "      <td>3</td>\n",
       "      <td>Heikkinen, Miss. Laina</td>\n",
       "      <td>female</td>\n",
       "      <td>26.0</td>\n",
       "      <td>0</td>\n",
       "      <td>0</td>\n",
       "      <td>STON/O2. 3101282</td>\n",
       "      <td>7.9250</td>\n",
       "      <td>NaN</td>\n",
       "      <td>S</td>\n",
       "    </tr>\n",
       "    <tr>\n",
       "      <th>3</th>\n",
       "      <td>4</td>\n",
       "      <td>1</td>\n",
       "      <td>1</td>\n",
       "      <td>Futrelle, Mrs. Jacques Heath (Lily May Peel)</td>\n",
       "      <td>female</td>\n",
       "      <td>35.0</td>\n",
       "      <td>1</td>\n",
       "      <td>0</td>\n",
       "      <td>113803</td>\n",
       "      <td>53.1000</td>\n",
       "      <td>C123</td>\n",
       "      <td>S</td>\n",
       "    </tr>\n",
       "    <tr>\n",
       "      <th>4</th>\n",
       "      <td>5</td>\n",
       "      <td>0</td>\n",
       "      <td>3</td>\n",
       "      <td>Allen, Mr. William Henry</td>\n",
       "      <td>male</td>\n",
       "      <td>35.0</td>\n",
       "      <td>0</td>\n",
       "      <td>0</td>\n",
       "      <td>373450</td>\n",
       "      <td>8.0500</td>\n",
       "      <td>NaN</td>\n",
       "      <td>S</td>\n",
       "    </tr>\n",
       "    <tr>\n",
       "      <th>5</th>\n",
       "      <td>6</td>\n",
       "      <td>0</td>\n",
       "      <td>3</td>\n",
       "      <td>Moran, Mr. James</td>\n",
       "      <td>male</td>\n",
       "      <td>NaN</td>\n",
       "      <td>0</td>\n",
       "      <td>0</td>\n",
       "      <td>330877</td>\n",
       "      <td>8.4583</td>\n",
       "      <td>NaN</td>\n",
       "      <td>Q</td>\n",
       "    </tr>\n",
       "  </tbody>\n",
       "</table>\n",
       "</div>"
      ],
      "text/plain": [
       "   PassengerId  Survived  Pclass  \\\n",
       "0            1         0       3   \n",
       "1            2         1       1   \n",
       "2            3         1       3   \n",
       "3            4         1       1   \n",
       "4            5         0       3   \n",
       "5            6         0       3   \n",
       "\n",
       "                                                Name     Sex   Age  SibSp  \\\n",
       "0                            Braund, Mr. Owen Harris    male  22.0      1   \n",
       "1  Cumings, Mrs. John Bradley (Florence Briggs Th...  female  38.0      1   \n",
       "2                             Heikkinen, Miss. Laina  female  26.0      0   \n",
       "3       Futrelle, Mrs. Jacques Heath (Lily May Peel)  female  35.0      1   \n",
       "4                           Allen, Mr. William Henry    male  35.0      0   \n",
       "5                                   Moran, Mr. James    male   NaN      0   \n",
       "\n",
       "   Parch            Ticket     Fare Cabin Embarked  \n",
       "0      0         A/5 21171   7.2500   NaN        S  \n",
       "1      0          PC 17599  71.2833   C85        C  \n",
       "2      0  STON/O2. 3101282   7.9250   NaN        S  \n",
       "3      0            113803  53.1000  C123        S  \n",
       "4      0            373450   8.0500   NaN        S  \n",
       "5      0            330877   8.4583   NaN        Q  "
      ]
     },
     "execution_count": 68,
     "metadata": {},
     "output_type": "execute_result"
    }
   ],
   "source": [
    "df.head(6)"
   ]
  },
  {
   "cell_type": "code",
   "execution_count": 69,
   "id": "c1c84186",
   "metadata": {},
   "outputs": [
    {
     "data": {
      "text/plain": [
       "PassengerId                  100\n",
       "Survived                       0\n",
       "Pclass                         2\n",
       "Name           Kantor, Mr. Sinai\n",
       "Sex                         male\n",
       "Age                         34.0\n",
       "SibSp                          1\n",
       "Parch                          0\n",
       "Ticket                    244367\n",
       "Fare                        26.0\n",
       "Cabin                        NaN\n",
       "Embarked                       S\n",
       "Name: 99, dtype: object"
      ]
     },
     "execution_count": 69,
     "metadata": {},
     "output_type": "execute_result"
    }
   ],
   "source": [
    "df.loc[99]"
   ]
  },
  {
   "cell_type": "code",
   "execution_count": 70,
   "id": "70735911",
   "metadata": {},
   "outputs": [
    {
     "data": {
      "text/html": [
       "<div>\n",
       "<style scoped>\n",
       "    .dataframe tbody tr th:only-of-type {\n",
       "        vertical-align: middle;\n",
       "    }\n",
       "\n",
       "    .dataframe tbody tr th {\n",
       "        vertical-align: top;\n",
       "    }\n",
       "\n",
       "    .dataframe thead th {\n",
       "        text-align: right;\n",
       "    }\n",
       "</style>\n",
       "<table border=\"1\" class=\"dataframe\">\n",
       "  <thead>\n",
       "    <tr style=\"text-align: right;\">\n",
       "      <th></th>\n",
       "      <th>PassengerId</th>\n",
       "      <th>Survived</th>\n",
       "      <th>Pclass</th>\n",
       "      <th>Name</th>\n",
       "      <th>Sex</th>\n",
       "      <th>Age</th>\n",
       "      <th>SibSp</th>\n",
       "      <th>Parch</th>\n",
       "      <th>Ticket</th>\n",
       "      <th>Fare</th>\n",
       "      <th>Cabin</th>\n",
       "      <th>Embarked</th>\n",
       "    </tr>\n",
       "  </thead>\n",
       "  <tbody>\n",
       "    <tr>\n",
       "      <th>0</th>\n",
       "      <td>1</td>\n",
       "      <td>0</td>\n",
       "      <td>3</td>\n",
       "      <td>Braund, Mr. Owen Harris</td>\n",
       "      <td>male</td>\n",
       "      <td>22.0</td>\n",
       "      <td>1</td>\n",
       "      <td>0</td>\n",
       "      <td>A/5 21171</td>\n",
       "      <td>7.2500</td>\n",
       "      <td>NaN</td>\n",
       "      <td>S</td>\n",
       "    </tr>\n",
       "    <tr>\n",
       "      <th>1</th>\n",
       "      <td>2</td>\n",
       "      <td>1</td>\n",
       "      <td>1</td>\n",
       "      <td>Cumings, Mrs. John Bradley (Florence Briggs Th...</td>\n",
       "      <td>female</td>\n",
       "      <td>38.0</td>\n",
       "      <td>1</td>\n",
       "      <td>0</td>\n",
       "      <td>PC 17599</td>\n",
       "      <td>71.2833</td>\n",
       "      <td>C85</td>\n",
       "      <td>C</td>\n",
       "    </tr>\n",
       "    <tr>\n",
       "      <th>2</th>\n",
       "      <td>3</td>\n",
       "      <td>1</td>\n",
       "      <td>3</td>\n",
       "      <td>Heikkinen, Miss. Laina</td>\n",
       "      <td>female</td>\n",
       "      <td>26.0</td>\n",
       "      <td>0</td>\n",
       "      <td>0</td>\n",
       "      <td>STON/O2. 3101282</td>\n",
       "      <td>7.9250</td>\n",
       "      <td>NaN</td>\n",
       "      <td>S</td>\n",
       "    </tr>\n",
       "    <tr>\n",
       "      <th>3</th>\n",
       "      <td>4</td>\n",
       "      <td>1</td>\n",
       "      <td>1</td>\n",
       "      <td>Futrelle, Mrs. Jacques Heath (Lily May Peel)</td>\n",
       "      <td>female</td>\n",
       "      <td>35.0</td>\n",
       "      <td>1</td>\n",
       "      <td>0</td>\n",
       "      <td>113803</td>\n",
       "      <td>53.1000</td>\n",
       "      <td>C123</td>\n",
       "      <td>S</td>\n",
       "    </tr>\n",
       "    <tr>\n",
       "      <th>4</th>\n",
       "      <td>5</td>\n",
       "      <td>0</td>\n",
       "      <td>3</td>\n",
       "      <td>Allen, Mr. William Henry</td>\n",
       "      <td>male</td>\n",
       "      <td>35.0</td>\n",
       "      <td>0</td>\n",
       "      <td>0</td>\n",
       "      <td>373450</td>\n",
       "      <td>8.0500</td>\n",
       "      <td>NaN</td>\n",
       "      <td>S</td>\n",
       "    </tr>\n",
       "    <tr>\n",
       "      <th>5</th>\n",
       "      <td>6</td>\n",
       "      <td>0</td>\n",
       "      <td>3</td>\n",
       "      <td>Moran, Mr. James</td>\n",
       "      <td>male</td>\n",
       "      <td>28.0</td>\n",
       "      <td>0</td>\n",
       "      <td>0</td>\n",
       "      <td>330877</td>\n",
       "      <td>8.4583</td>\n",
       "      <td>NaN</td>\n",
       "      <td>Q</td>\n",
       "    </tr>\n",
       "  </tbody>\n",
       "</table>\n",
       "</div>"
      ],
      "text/plain": [
       "   PassengerId  Survived  Pclass  \\\n",
       "0            1         0       3   \n",
       "1            2         1       1   \n",
       "2            3         1       3   \n",
       "3            4         1       1   \n",
       "4            5         0       3   \n",
       "5            6         0       3   \n",
       "\n",
       "                                                Name     Sex   Age  SibSp  \\\n",
       "0                            Braund, Mr. Owen Harris    male  22.0      1   \n",
       "1  Cumings, Mrs. John Bradley (Florence Briggs Th...  female  38.0      1   \n",
       "2                             Heikkinen, Miss. Laina  female  26.0      0   \n",
       "3       Futrelle, Mrs. Jacques Heath (Lily May Peel)  female  35.0      1   \n",
       "4                           Allen, Mr. William Henry    male  35.0      0   \n",
       "5                                   Moran, Mr. James    male  28.0      0   \n",
       "\n",
       "   Parch            Ticket     Fare Cabin Embarked  \n",
       "0      0         A/5 21171   7.2500   NaN        S  \n",
       "1      0          PC 17599  71.2833   C85        C  \n",
       "2      0  STON/O2. 3101282   7.9250   NaN        S  \n",
       "3      0            113803  53.1000  C123        S  \n",
       "4      0            373450   8.0500   NaN        S  \n",
       "5      0            330877   8.4583   NaN        Q  "
      ]
     },
     "execution_count": 70,
     "metadata": {},
     "output_type": "execute_result"
    }
   ],
   "source": [
    "df.at[5, 'Age'] = 28.0\n",
    "df.head(6)"
   ]
  },
  {
   "cell_type": "code",
   "execution_count": 71,
   "id": "66b1e2a9",
   "metadata": {},
   "outputs": [
    {
     "name": "stdout",
     "output_type": "stream",
     "text": [
      "576\n"
     ]
    }
   ],
   "source": [
    "count = 0\n",
    "for i in range(0, len(df)):\n",
    "    if(df.iloc[i]['Age'] > 18):\n",
    "        count+=1\n",
    "print(count)"
   ]
  },
  {
   "cell_type": "code",
   "execution_count": 72,
   "id": "03b33e28",
   "metadata": {},
   "outputs": [
    {
     "name": "stdout",
     "output_type": "stream",
     "text": [
      "64.75869809203144\n"
     ]
    }
   ],
   "source": [
    "male = 0\n",
    "for j in range(0, len(df)):\n",
    "    if(df.iloc[j]['Sex'] == 'male'):\n",
    "        male+=1\n",
    "total = len(df)\n",
    "percentage = male/total\n",
    "print(percentage * 100)"
   ]
  },
  {
   "cell_type": "code",
   "execution_count": 73,
   "id": "d6ca5662",
   "metadata": {},
   "outputs": [
    {
     "data": {
      "text/plain": [
       "['S']"
      ]
     },
     "execution_count": 73,
     "metadata": {},
     "output_type": "execute_result"
    }
   ],
   "source": [
    "'''\n",
    "percentage = df.crosstab(index=df['Embarked'], columns='count')\n",
    "percentage/percentage.sum()\n",
    "'''\n",
    "ports = []\n",
    "ports.append(df.loc[0,'Embarked'])\n",
    "ports"
   ]
  },
  {
   "cell_type": "code",
   "execution_count": 74,
   "id": "cf6ffa48",
   "metadata": {},
   "outputs": [],
   "source": [
    "classes = {\"CLASS\":[], \"Frequency\":[], }\n",
    "countFirst = 0\n",
    "countSecond = 0\n",
    "countThird =0\n",
    "for ticket in df[\"Pclass\"]:\n",
    "    if( ticket ==1):\n",
    "        countFirst +=1\n",
    "    elif ticket ==2:\n",
    "        countSecond = countSecond +1\n",
    "    elif countThird ==3:\n",
    "        countThird +=1\n",
    "classes[\"CLASS\"].append(\"First\")\n",
    "classes[\"CLASS\"].append(\"Second\")\n",
    "classes[\"CLASS\"].append(\"Ihird\")\n",
    "classes[\"Frequency\"].append(countFirst)\n",
    "classes[\"Frequency\"].append(countSecond)\n",
    "classes[\"Frequency\"].append(countThird)"
   ]
  },
  {
   "cell_type": "code",
   "execution_count": 75,
   "id": "a372415c",
   "metadata": {},
   "outputs": [
    {
     "data": {
      "text/html": [
       "<div>\n",
       "<style scoped>\n",
       "    .dataframe tbody tr th:only-of-type {\n",
       "        vertical-align: middle;\n",
       "    }\n",
       "\n",
       "    .dataframe tbody tr th {\n",
       "        vertical-align: top;\n",
       "    }\n",
       "\n",
       "    .dataframe thead th {\n",
       "        text-align: right;\n",
       "    }\n",
       "</style>\n",
       "<table border=\"1\" class=\"dataframe\">\n",
       "  <thead>\n",
       "    <tr style=\"text-align: right;\">\n",
       "      <th></th>\n",
       "      <th>CLASS</th>\n",
       "      <th>Frequency</th>\n",
       "    </tr>\n",
       "  </thead>\n",
       "  <tbody>\n",
       "    <tr>\n",
       "      <th>0</th>\n",
       "      <td>First</td>\n",
       "      <td>216</td>\n",
       "    </tr>\n",
       "    <tr>\n",
       "      <th>1</th>\n",
       "      <td>Second</td>\n",
       "      <td>184</td>\n",
       "    </tr>\n",
       "    <tr>\n",
       "      <th>2</th>\n",
       "      <td>Ihird</td>\n",
       "      <td>0</td>\n",
       "    </tr>\n",
       "  </tbody>\n",
       "</table>\n",
       "</div>"
      ],
      "text/plain": [
       "    CLASS  Frequency\n",
       "0   First        216\n",
       "1  Second        184\n",
       "2   Ihird          0"
      ]
     },
     "execution_count": 75,
     "metadata": {},
     "output_type": "execute_result"
    }
   ],
   "source": [
    "freqTable = pd.DataFrame(classes)\n",
    "freqTable.head()"
   ]
  },
  {
   "cell_type": "code",
   "execution_count": 81,
   "id": "77409e62",
   "metadata": {},
   "outputs": [
    {
     "ename": "SyntaxError",
     "evalue": "invalid syntax (2878175649.py, line 3)",
     "output_type": "error",
     "traceback": [
      "\u001b[1;36m  File \u001b[1;32m\"C:\\Users\\bhunter8\\AppData\\Local\\Temp\\ipykernel_11748\\2878175649.py\"\u001b[1;36m, line \u001b[1;32m3\u001b[0m\n\u001b[1;33m    freqTable\u001b[0m\n\u001b[1;37m    ^\u001b[0m\n\u001b[1;31mSyntaxError\u001b[0m\u001b[1;31m:\u001b[0m invalid syntax\n"
     ]
    }
   ],
   "source": [
    "freqTable = pd.DataFrame(classes)\n",
    "freqTable[\"Percent\"] = (freqTable[\"Frclasses\"] == {\"CLASS\":[], \"Frequency\":[], }\n",
    "freqTable.value_counts()"
   ]
  },
  {
   "cell_type": "code",
   "execution_count": 77,
   "id": "41050654",
   "metadata": {},
   "outputs": [
    {
     "data": {
      "text/html": [
       "<div>\n",
       "<style scoped>\n",
       "    .dataframe tbody tr th:only-of-type {\n",
       "        vertical-align: middle;\n",
       "    }\n",
       "\n",
       "    .dataframe tbody tr th {\n",
       "        vertical-align: top;\n",
       "    }\n",
       "\n",
       "    .dataframe thead th {\n",
       "        text-align: right;\n",
       "    }\n",
       "</style>\n",
       "<table border=\"1\" class=\"dataframe\">\n",
       "  <thead>\n",
       "    <tr style=\"text-align: right;\">\n",
       "      <th></th>\n",
       "      <th>PassengerId</th>\n",
       "      <th>Survived</th>\n",
       "      <th>Pclass</th>\n",
       "      <th>Name</th>\n",
       "      <th>Sex</th>\n",
       "      <th>Age</th>\n",
       "      <th>SibSp</th>\n",
       "      <th>Parch</th>\n",
       "      <th>Ticket</th>\n",
       "      <th>Fare</th>\n",
       "      <th>Cabin</th>\n",
       "      <th>Embarked</th>\n",
       "    </tr>\n",
       "  </thead>\n",
       "  <tbody>\n",
       "    <tr>\n",
       "      <th>527</th>\n",
       "      <td>528</td>\n",
       "      <td>0</td>\n",
       "      <td>1</td>\n",
       "      <td>Farthing, Mr. John</td>\n",
       "      <td>male</td>\n",
       "      <td>NaN</td>\n",
       "      <td>0</td>\n",
       "      <td>0</td>\n",
       "      <td>PC 17483</td>\n",
       "      <td>221.7792</td>\n",
       "      <td>C95</td>\n",
       "      <td>S</td>\n",
       "    </tr>\n",
       "  </tbody>\n",
       "</table>\n",
       "</div>"
      ],
      "text/plain": [
       "     PassengerId  Survived  Pclass                Name   Sex  Age  SibSp  \\\n",
       "527          528         0       1  Farthing, Mr. John  male  NaN      0   \n",
       "\n",
       "     Parch    Ticket      Fare Cabin Embarked  \n",
       "527      0  PC 17483  221.7792   C95        S  "
      ]
     },
     "execution_count": 77,
     "metadata": {},
     "output_type": "execute_result"
    }
   ],
   "source": [
    "df[df['PassengerId'] == 528]"
   ]
  },
  {
   "cell_type": "code",
   "execution_count": 78,
   "id": "bb91d2c6",
   "metadata": {
    "scrolled": true
   },
   "outputs": [
    {
     "data": {
      "text/plain": [
       "PassengerId                              707\n",
       "Survived                                   1\n",
       "Pclass                                     2\n",
       "Name           Kelly, Mrs. Florence \"Fannie\"\n",
       "Sex                                   female\n",
       "Age                                     45.0\n",
       "SibSp                                      0\n",
       "Parch                                      0\n",
       "Ticket                                223596\n",
       "Fare                                    13.5\n",
       "Cabin                                    NaN\n",
       "Embarked                                   S\n",
       "Name: 706, dtype: object"
      ]
     },
     "execution_count": 78,
     "metadata": {},
     "output_type": "execute_result"
    }
   ],
   "source": [
    "index=0\n",
    "for person in df['Name']:\n",
    "    if \"Fannie\" in person:\n",
    "        break\n",
    "    index+= 1\n",
    "df.loc[index]"
   ]
  },
  {
   "cell_type": "code",
   "execution_count": 85,
   "id": "697aeea0",
   "metadata": {},
   "outputs": [
    {
     "data": {
      "text/html": [
       "<div>\n",
       "<style scoped>\n",
       "    .dataframe tbody tr th:only-of-type {\n",
       "        vertical-align: middle;\n",
       "    }\n",
       "\n",
       "    .dataframe tbody tr th {\n",
       "        vertical-align: top;\n",
       "    }\n",
       "\n",
       "    .dataframe thead th {\n",
       "        text-align: right;\n",
       "    }\n",
       "</style>\n",
       "<table border=\"1\" class=\"dataframe\">\n",
       "  <thead>\n",
       "    <tr style=\"text-align: right;\">\n",
       "      <th>Survived</th>\n",
       "      <th>False</th>\n",
       "      <th>True</th>\n",
       "    </tr>\n",
       "    <tr>\n",
       "      <th>Sex</th>\n",
       "      <th></th>\n",
       "      <th></th>\n",
       "    </tr>\n",
       "  </thead>\n",
       "  <tbody>\n",
       "    <tr>\n",
       "      <th>female</th>\n",
       "      <td>81</td>\n",
       "      <td>233</td>\n",
       "    </tr>\n",
       "    <tr>\n",
       "      <th>male</th>\n",
       "      <td>468</td>\n",
       "      <td>109</td>\n",
       "    </tr>\n",
       "  </tbody>\n",
       "</table>\n",
       "</div>"
      ],
      "text/plain": [
       "Survived  False  True\n",
       "Sex                  \n",
       "female       81   233\n",
       "male        468   109"
      ]
     },
     "execution_count": 85,
     "metadata": {},
     "output_type": "execute_result"
    }
   ],
   "source": [
    "con = pd.crosstab(df['Sex'], df['Survived']==1)\n",
    "con"
   ]
  },
  {
   "cell_type": "code",
   "execution_count": 89,
   "id": "1f124fa8",
   "metadata": {},
   "outputs": [
    {
     "ename": "SyntaxError",
     "evalue": "invalid syntax (1426071428.py, line 18)",
     "output_type": "error",
     "traceback": [
      "\u001b[1;36m  File \u001b[1;32m\"C:\\Users\\bhunter8\\AppData\\Local\\Temp\\ipykernel_11748\\1426071428.py\"\u001b[1;36m, line \u001b[1;32m18\u001b[0m\n\u001b[1;33m    malexf\u001b[0m\n\u001b[1;37m    ^\u001b[0m\n\u001b[1;31mSyntaxError\u001b[0m\u001b[1;31m:\u001b[0m invalid syntax\n"
     ]
    }
   ],
   "source": [
    "ms =0\n",
    "fs=0\n",
    "md=0\n",
    "fd=0\n",
    "for ind in range(len(df)):\n",
    "    if (df.loc[ind]['Sex'] == \"male\"):\n",
    "        if(df.loc[ind]['Survived'] == 1):\n",
    "            ms += 1\n",
    "        else:\n",
    "            md +=1\n",
    "    else:\n",
    "        if(df.loc[ind]['Survived'] == 1):\n",
    "            fs+=1\n",
    "        else:\n",
    "            fd+=1\n",
    "malexftalbe = pd.dataframe({\"Male\": [ms,md], \"Female\": [fs,fd]}, index = [\"Male\", \"Female\"])\n",
    "malexf = pd.crosstab(df['Male'], df['Female']\n",
    "malexf"
   ]
  },
  {
   "cell_type": "code",
   "execution_count": 97,
   "id": "86dac770",
   "metadata": {},
   "outputs": [
    {
     "name": "stdout",
     "output_type": "stream",
     "text": [
      "          Not Elderly  Elderly\n",
      "Survived          335        7\n",
      "Died              530       19\n"
     ]
    }
   ],
   "source": [
    "data ={\"Elderly\":[], \"Not Elderly\":[]}\n",
    "eldd = 0\n",
    "elds =0\n",
    "yous=0\n",
    "youd = 0\n",
    "#group = pd.DataFrame(data, index = [\"Sruvived\",\"Not Survived\"])\n",
    "for ini in range(len(df)):\n",
    "    if(df.loc[ini][\"Age\"] >= 60):\n",
    "        if(df.loc[ini][\"Survived\"]):\n",
    "            elds+=1\n",
    "        else:\n",
    "            eldd +=1\n",
    "    else:\n",
    "        if(df.loc[ini][\"Survived\"]):\n",
    "            yous+=1\n",
    "        else:\n",
    "            youd+=1\n",
    "        \n",
    "conTable = {\n",
    "    \"Not Elderly\": [yous, youd],\n",
    "    \"Elderly\": [elds, eldd]\n",
    "    \n",
    "}\n",
    "df2 = pd.DataFrame(conTable)\n",
    "df2.index = [\"Survived\", \"Died\"]\n",
    "print(df2)"
   ]
  },
  {
   "cell_type": "markdown",
   "id": "2e260a1b",
   "metadata": {},
   "source": [
    "child =0\n",
    "adult=0\n",
    "old = 0\n",
    "for i in range(len(df)):\n",
    "    if(df.loc[i][\"Age\"] < 18):\n",
    "        child +=1\n",
    "    elif(df.loc[i][\"Age\"] >=60):\n",
    "        old +=1\n",
    "    else:\n",
    "        adult +=1\n",
    "childp = child/(child+old+adult)\n",
    "adultp = adult/(child+old+adult)\n",
    "oldp= old/(child+old+adult)\n",
    "spread = pd.DataFrame({\"Child\":[childp], \"Adult\":[adultp], \"Elderly\": [oldp]})\n",
    "\n",
    "cross = spread.crosstab(spread[\"Child\"], spread[\"Adult\"], spread[\"Elderly\"], index: \n",
    "print(crosstab)"
   ]
  },
  {
   "cell_type": "code",
   "execution_count": 102,
   "id": "96f380d0",
   "metadata": {},
   "outputs": [
    {
     "ename": "ValueError",
     "evalue": "values cannot be used without an aggfunc.",
     "output_type": "error",
     "traceback": [
      "\u001b[1;31m---------------------------------------------------------------------------\u001b[0m",
      "\u001b[1;31mValueError\u001b[0m                                Traceback (most recent call last)",
      "\u001b[1;32m~\\AppData\\Local\\Temp\\ipykernel_11748\\2228446703.py\u001b[0m in \u001b[0;36m<module>\u001b[1;34m\u001b[0m\n\u001b[0;32m     14\u001b[0m \u001b[0mspread\u001b[0m \u001b[1;33m=\u001b[0m \u001b[0mpd\u001b[0m\u001b[1;33m.\u001b[0m\u001b[0mDataFrame\u001b[0m\u001b[1;33m(\u001b[0m\u001b[1;33m{\u001b[0m\u001b[1;34m\"Child\"\u001b[0m\u001b[1;33m:\u001b[0m\u001b[1;33m[\u001b[0m\u001b[0mchildp\u001b[0m\u001b[1;33m]\u001b[0m\u001b[1;33m,\u001b[0m \u001b[1;34m\"Adult\"\u001b[0m\u001b[1;33m:\u001b[0m\u001b[1;33m[\u001b[0m\u001b[0madultp\u001b[0m\u001b[1;33m]\u001b[0m\u001b[1;33m,\u001b[0m \u001b[1;34m\"Elderly\"\u001b[0m\u001b[1;33m:\u001b[0m \u001b[1;33m[\u001b[0m\u001b[0moldp\u001b[0m\u001b[1;33m]\u001b[0m\u001b[1;33m}\u001b[0m\u001b[1;33m)\u001b[0m\u001b[1;33m\u001b[0m\u001b[1;33m\u001b[0m\u001b[0m\n\u001b[0;32m     15\u001b[0m \u001b[1;33m\u001b[0m\u001b[0m\n\u001b[1;32m---> 16\u001b[1;33m \u001b[0mcross\u001b[0m \u001b[1;33m=\u001b[0m \u001b[0mpd\u001b[0m\u001b[1;33m.\u001b[0m\u001b[0mcrosstab\u001b[0m\u001b[1;33m(\u001b[0m\u001b[0mspread\u001b[0m\u001b[1;33m[\u001b[0m\u001b[1;34m\"Child\"\u001b[0m\u001b[1;33m]\u001b[0m\u001b[1;33m,\u001b[0m \u001b[0mspread\u001b[0m\u001b[1;33m[\u001b[0m\u001b[1;34m\"Adult\"\u001b[0m\u001b[1;33m]\u001b[0m\u001b[1;33m,\u001b[0m \u001b[0mspread\u001b[0m\u001b[1;33m[\u001b[0m\u001b[1;34m\"Elderly\"\u001b[0m\u001b[1;33m]\u001b[0m\u001b[1;33m)\u001b[0m\u001b[1;33m\u001b[0m\u001b[1;33m\u001b[0m\u001b[0m\n\u001b[0m\u001b[0;32m     17\u001b[0m \u001b[0mprint\u001b[0m\u001b[1;33m(\u001b[0m\u001b[0mcrosstab\u001b[0m\u001b[1;33m)\u001b[0m\u001b[1;33m\u001b[0m\u001b[1;33m\u001b[0m\u001b[0m\n",
      "\u001b[1;32mC:\\ProgramData\\Anaconda3\\lib\\site-packages\\pandas\\core\\reshape\\pivot.py\u001b[0m in \u001b[0;36mcrosstab\u001b[1;34m(index, columns, values, rownames, colnames, aggfunc, margins, margins_name, dropna, normalize)\u001b[0m\n\u001b[0;32m    630\u001b[0m \u001b[1;33m\u001b[0m\u001b[0m\n\u001b[0;32m    631\u001b[0m     \u001b[1;32mif\u001b[0m \u001b[0mvalues\u001b[0m \u001b[1;32mis\u001b[0m \u001b[1;32mnot\u001b[0m \u001b[1;32mNone\u001b[0m \u001b[1;32mand\u001b[0m \u001b[0maggfunc\u001b[0m \u001b[1;32mis\u001b[0m \u001b[1;32mNone\u001b[0m\u001b[1;33m:\u001b[0m\u001b[1;33m\u001b[0m\u001b[1;33m\u001b[0m\u001b[0m\n\u001b[1;32m--> 632\u001b[1;33m         \u001b[1;32mraise\u001b[0m \u001b[0mValueError\u001b[0m\u001b[1;33m(\u001b[0m\u001b[1;34m\"values cannot be used without an aggfunc.\"\u001b[0m\u001b[1;33m)\u001b[0m\u001b[1;33m\u001b[0m\u001b[1;33m\u001b[0m\u001b[0m\n\u001b[0m\u001b[0;32m    633\u001b[0m \u001b[1;33m\u001b[0m\u001b[0m\n\u001b[0;32m    634\u001b[0m     \u001b[1;32mif\u001b[0m \u001b[1;32mnot\u001b[0m \u001b[0mis_nested_list_like\u001b[0m\u001b[1;33m(\u001b[0m\u001b[0mindex\u001b[0m\u001b[1;33m)\u001b[0m\u001b[1;33m:\u001b[0m\u001b[1;33m\u001b[0m\u001b[1;33m\u001b[0m\u001b[0m\n",
      "\u001b[1;31mValueError\u001b[0m: values cannot be used without an aggfunc."
     ]
    }
   ],
   "source": [
    "child =0\n",
    "adult=0\n",
    "old = 0\n",
    "for i in range(len(df)):\n",
    "    if(df.loc[i][\"Age\"] < 18):\n",
    "        child +=1\n",
    "    elif(df.loc[i][\"Age\"] >=60):\n",
    "        old +=1\n",
    "    else:\n",
    "        adult +=1\n",
    "childp = child/(child+old+adult)*100\n",
    "adultp = adult/(child+old+adult)*100\n",
    "oldp= old/(child+old+adult)*100\n",
    "spread = pd.DataFrame({\"Child\":[childp], \"Adult\":[adultp], \"Elderly\": [oldp]})\n",
    "\n",
    "cross = pd.crosstab(spread[\"Child\"], spread[\"Adult\"], spread[\"Elderly\"])\n",
    "print(crosstab)"
   ]
  },
  {
   "cell_type": "code",
   "execution_count": 103,
   "id": "fc62aefc",
   "metadata": {},
   "outputs": [
    {
     "name": "stdout",
     "output_type": "stream",
     "text": [
      "       Child      Adult  Elderly\n",
      "0  12.682379  84.399551  2.91807\n"
     ]
    }
   ],
   "source": [
    "import pandas as pd\n",
    "\n",
    "child = 0\n",
    "adult = 0\n",
    "old = 0\n",
    "\n",
    "for i in range(len(df)):\n",
    "    if df.loc[i, \"Age\"] < 18:\n",
    "        child += 1\n",
    "    elif df.loc[i, \"Age\"] >= 60:\n",
    "        old += 1\n",
    "    else:\n",
    "        adult += 1\n",
    "\n",
    "\n",
    "total = child + adult + old\n",
    "\n",
    "\n",
    "childp = child / total * 100\n",
    "adultp = adult / total * 100\n",
    "oldp = old / total * 100\n",
    "\n",
    "\n",
    "spread = pd.DataFrame({\n",
    "    \"Child\": [childp],\n",
    "    \"Adult\": [adultp],\n",
    "    \"Elderly\": [oldp]\n",
    "})\n",
    "\n",
    "\n",
    "print(spread)"
   ]
  },
  {
   "cell_type": "code",
   "execution_count": null,
   "id": "b3f551bd",
   "metadata": {},
   "outputs": [],
   "source": [
    "survival = {\"CITY\": [], \"SURVIVAL\": []}\n",
    "died = {}\n",
    "citySsurvived = 0\n",
    "cityCsurvived =0\n",
    "cityQsurvived =0\n",
    "for i in range(len(df)):\n",
    "    if(df.loc[i][\"Embarked\"] == \"S\"):\n",
    "        citySsurvived += 1\n",
    "    elif(df.loc[i][\"Embarked\"] == \"C\"):\n",
    "        cityCsurvived +=1\n",
    "    else:\n",
    "        cityQsurvived +=1\n",
    "percentS = citySsurvived\n",
    "survival = {\"CITY\": [city], \"SURVIVAL\": []}"
   ]
  },
  {
   "cell_type": "code",
   "execution_count": 13,
   "id": "19125c18",
   "metadata": {},
   "outputs": [
    {
     "data": {
      "text/html": [
       "<div>\n",
       "<style scoped>\n",
       "    .dataframe tbody tr th:only-of-type {\n",
       "        vertical-align: middle;\n",
       "    }\n",
       "\n",
       "    .dataframe tbody tr th {\n",
       "        vertical-align: top;\n",
       "    }\n",
       "\n",
       "    .dataframe thead th {\n",
       "        text-align: right;\n",
       "    }\n",
       "</style>\n",
       "<table border=\"1\" class=\"dataframe\">\n",
       "  <thead>\n",
       "    <tr style=\"text-align: right;\">\n",
       "      <th></th>\n",
       "      <th>S</th>\n",
       "      <th>Q</th>\n",
       "      <th>C</th>\n",
       "    </tr>\n",
       "  </thead>\n",
       "  <tbody>\n",
       "    <tr>\n",
       "      <th>Survived</th>\n",
       "      <td>0.336957</td>\n",
       "      <td>0.38961</td>\n",
       "      <td>0.553571</td>\n",
       "    </tr>\n",
       "    <tr>\n",
       "      <th>Died</th>\n",
       "      <td>0.663043</td>\n",
       "      <td>0.61039</td>\n",
       "      <td>0.446429</td>\n",
       "    </tr>\n",
       "  </tbody>\n",
       "</table>\n",
       "</div>"
      ],
      "text/plain": [
       "                 S        Q         C\n",
       "Survived  0.336957  0.38961  0.553571\n",
       "Died      0.663043  0.61039  0.446429"
      ]
     },
     "execution_count": 13,
     "metadata": {},
     "output_type": "execute_result"
    }
   ],
   "source": [
    "diedkey = {}\n",
    "survivedkey = {}\n",
    "for i in range(len(df)):\n",
    "    port = df.loc[i, \"Embarked\"]\n",
    "    survived = df.loc[i, \"Survived\"]\n",
    "    if (survived==1):\n",
    "        if(port in survivedkey.keys()):\n",
    "            survivedkey[port] += 1\n",
    "        else:\n",
    "            survivedkey[port] = 1\n",
    "    else:\n",
    "        if(port in diedkey.keys()):\n",
    "            diedkey[port] += 1\n",
    "        else:\n",
    "            diedkey[port] = 1\n",
    "    \n",
    "    \n",
    "contable = {\n",
    "    \"S\" : [survivedkey[\"S\"]/(survivedkey[\"S\"] + diedkey[\"S\"]), diedkey[\"S\"]/(survivedkey[\"S\"] + diedkey[\"S\"])],\n",
    "    \"Q\" : [survivedkey[\"Q\"]/(survivedkey[\"Q\"] + diedkey[\"Q\"]), diedkey[\"Q\"]/(survivedkey[\"Q\"] + diedkey[\"Q\"])],\n",
    "    \"C\" : [survivedkey[\"C\"]/(survivedkey[\"C\"] + diedkey[\"C\"]), diedkey[\"C\"]/(survivedkey[\"C\"] + diedkey[\"C\"])]\n",
    "}\n",
    "printtable = pd.DataFrame(contable)\n",
    "printtable.index = [\"Survived\" , \"Died\"]\n",
    "printtable"
   ]
  },
  {
   "cell_type": "code",
   "execution_count": 14,
   "id": "1302cc9c",
   "metadata": {},
   "outputs": [],
   "source": [
    "import seaborn as sns"
   ]
  },
  {
   "cell_type": "code",
   "execution_count": 17,
   "id": "0fe2a174",
   "metadata": {},
   "outputs": [
    {
     "ename": "SyntaxError",
     "evalue": "positional argument follows keyword argument (3271568637.py, line 3)",
     "output_type": "error",
     "traceback": [
      "\u001b[1;36m  File \u001b[1;32m\"C:\\Users\\bhunter8\\AppData\\Local\\Temp\\ipykernel_21344\\3271568637.py\"\u001b[1;36m, line \u001b[1;32m3\u001b[0m\n\u001b[1;33m    data = printtable)\u001b[0m\n\u001b[1;37m    ^\u001b[0m\n\u001b[1;31mSyntaxError\u001b[0m\u001b[1;31m:\u001b[0m positional argument follows keyword argument\n"
     ]
    }
   ],
   "source": [
    "ports{}\n",
    "\n",
    "for i in df[\"Embarked\"]:\n",
    "    if i in ports:\n",
    "        ports[i] += 1\n",
    "    else:\n",
    "        ports[i] =1\n",
    "        \n",
    "graph = {\n",
    "    \"passengers\" = [ports]\n",
    "    \"classes\"\n",
    "}\n",
    "    \n",
    "\n",
    "\n",
    "\n",
    "\n",
    "sns.barplot(x = 'S', \"Q\", \"c\",\n",
    "            y = 'Survived', 'Died'\n",
    "            data = printtable)\n",
    " \n",
    "# Show the plot\n",
    "plt.show()"
   ]
  },
  {
   "cell_type": "code",
   "execution_count": 21,
   "id": "c19fd7c7",
   "metadata": {},
   "outputs": [
    {
     "data": {
      "text/plain": [
       "{'First': 24.242424242424242,\n",
       " 'Second': 20.65095398428732,\n",
       " 'Third': 55.106621773288445}"
      ]
     },
     "execution_count": 21,
     "metadata": {},
     "output_type": "execute_result"
    }
   ],
   "source": [
    "passengerClasses = {\"First\": 0, \"Second\":0,\"Third\":0}\n",
    "for passenger in df[\"Pclass\"]:\n",
    "    if passenger ==1:\n",
    "        passengerClasses[\"First\"] += 1\n",
    "    elif passenger ==2:\n",
    "        passengerClasses[\"Second\"] +=1\n",
    "    else:\n",
    "        passengerClasses[\"Third\"] +=1\n",
    "        \n",
    "percentClasses = {\"First\": (passengerClasses[\"First\"]/len(df))*100,\n",
    "                   \"Second\": (passengerClasses[\"Second\"]/len(df))*100,\n",
    "                   \"Third\": (passengerClasses[\"Third\"]/len(df))*100}\n",
    "percentClasses"
   ]
  },
  {
   "cell_type": "code",
   "execution_count": 25,
   "id": "03543e26",
   "metadata": {},
   "outputs": [
    {
     "data": {
      "text/html": [
       "<div>\n",
       "<style scoped>\n",
       "    .dataframe tbody tr th:only-of-type {\n",
       "        vertical-align: middle;\n",
       "    }\n",
       "\n",
       "    .dataframe tbody tr th {\n",
       "        vertical-align: top;\n",
       "    }\n",
       "\n",
       "    .dataframe thead th {\n",
       "        text-align: right;\n",
       "    }\n",
       "</style>\n",
       "<table border=\"1\" class=\"dataframe\">\n",
       "  <thead>\n",
       "    <tr style=\"text-align: right;\">\n",
       "      <th></th>\n",
       "      <th>Classes</th>\n",
       "      <th>Percent</th>\n",
       "    </tr>\n",
       "  </thead>\n",
       "  <tbody>\n",
       "    <tr>\n",
       "      <th>0</th>\n",
       "      <td>First</td>\n",
       "      <td>24.242424</td>\n",
       "    </tr>\n",
       "    <tr>\n",
       "      <th>1</th>\n",
       "      <td>Second</td>\n",
       "      <td>20.650954</td>\n",
       "    </tr>\n",
       "    <tr>\n",
       "      <th>2</th>\n",
       "      <td>Third</td>\n",
       "      <td>55.106622</td>\n",
       "    </tr>\n",
       "  </tbody>\n",
       "</table>\n",
       "</div>"
      ],
      "text/plain": [
       "  Classes    Percent\n",
       "0   First  24.242424\n",
       "1  Second  20.650954\n",
       "2   Third  55.106622"
      ]
     },
     "execution_count": 25,
     "metadata": {},
     "output_type": "execute_result"
    }
   ],
   "source": [
    "freqTable = {\n",
    "    \"Classes\": [\"First\", \"Second\", \"Third\"],\n",
    "    \"Percent\": [percentClasses[\"First\"], percentClasses[\"Second\"], percentClasses[\"Third\"]]\n",
    "}\n",
    "freqTable = pd.DataFrame(freqTable)\n",
    "freqTable.head()"
   ]
  },
  {
   "cell_type": "code",
   "execution_count": 26,
   "id": "f8c96914",
   "metadata": {},
   "outputs": [
    {
     "data": {
      "text/plain": [
       "<AxesSubplot:xlabel='Classes', ylabel='Percent'>"
      ]
     },
     "execution_count": 26,
     "metadata": {},
     "output_type": "execute_result"
    },
    {
     "data": {
      "image/png": "[encoded data removed]",
      "text/plain": [
       "<Figure size 640x480 with 1 Axes>"
      ]
     },
     "metadata": {},
     "output_type": "display_data"
    }
   ],
   "source": [
    "sns.barplot(data=freqTable, x=\"Classes\", y=\"Percent\")"
   ]
  },
  {
   "cell_type": "code",
   "execution_count": 27,
   "id": "dac779c5",
   "metadata": {},
   "outputs": [
    {
     "ename": "SyntaxError",
     "evalue": "invalid syntax (2284863920.py, line 4)",
     "output_type": "error",
     "traceback": [
      "\u001b[1;36m  File \u001b[1;32m\"C:\\Users\\bhunter8\\AppData\\Local\\Temp\\ipykernel_21344\\2284863920.py\"\u001b[1;36m, line \u001b[1;32m4\u001b[0m\n\u001b[1;33m    port = df.[i][\"Embarked\"]\u001b[0m\n\u001b[1;37m              ^\u001b[0m\n\u001b[1;31mSyntaxError\u001b[0m\u001b[1;31m:\u001b[0m invalid syntax\n"
     ]
    }
   ],
   "source": [
    "passengerCity = {}\n",
    "survivalper = {}\n",
    "for i in df[\"Embarked\"]:\n",
    "    port = df.[i][\"Embarked\"]\n",
    "    survival = df.[i][\"Survived\"]\n",
    "    if(survival == 1):\n",
    "        if(port in passengerCity.keys):\n",
    "            passengerCity[port] += 1\n",
    "            survivalper[port] += 1\n",
    "        else:\n",
    "            passengerCity[port] =1\n",
    "            survivalper[port] = 1\n",
    "    else:\n",
    "        if(port in passengerCity.keys):\n",
    "            passengerCity[port] += 1\n",
    "        else:\n",
    "            passengerCity[port] =1\n",
    "\n",
    "graph{\n",
    "    \"class\": []\n",
    "}\n",
    "            \n",
    "    \n",
    "\n",
    "        "
   ]
  },
  {
   "cell_type": "code",
   "execution_count": null,
   "id": "f7a9ea40",
   "metadata": {},
   "outputs": [],
   "source": []
  }
 ],
 "metadata": {
  "kernelspec": {
   "display_name": "Python 3 (ipykernel)",
   "language": "python",
   "name": "python3"
  },
  "language_info": {
   "codemirror_mode": {
    "name": "ipython",
    "version": 3
   },
   "file_extension": ".py",
   "mimetype": "text/x-python",
   "name": "python",
   "nbconvert_exporter": "python",
   "pygments_lexer": "ipython3",
   "version": "3.9.13"
  }
 },
 "nbformat": 4,
 "nbformat_minor": 5
}
