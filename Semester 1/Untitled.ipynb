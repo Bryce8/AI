{
 "cells": [
  {
   "cell_type": "code",
   "execution_count": 3,
   "id": "fbc98785-f146-44bc-b8c0-52bb932830b9",
   "metadata": {},
   "outputs": [],
   "source": [
    "import pandas as pd\n",
    "\n",
    "def r_squared_from_df(df, col_true, col_pred):\n",
    "    y_true = df[col_true]\n",
    "    y_pred = df[col_pred]\n",
    "    \n",
    "    # Calculate the total sum of squares (SS_total)\n",
    "    ss_total = ((y_true - y_true.mean()) ** 2).sum()\n",
    "    \n",
    "    # Calculate the residual sum of squares (SS_residual)\n",
    "    ss_residual = ((y_true - y_pred) ** 2).sum()\n",
    "    \n",
    "    # Calculate R^2\n",
    "    r2 = 1 - (ss_residual / ss_total)\n",
    "    \n",
    "    return r2\n"
   ]
  },
  {
   "cell_type": "code",
   "execution_count": null,
   "id": "817422e6-5399-46ea-95ad-8c2876f0fefd",
   "metadata": {},
   "outputs": [],
   "source": []
  }
 ],
 "metadata": {
  "kernelspec": {
   "display_name": "Python 3 (ipykernel)",
   "language": "python",
   "name": "python3"
  },
  "language_info": {
   "codemirror_mode": {
    "name": "ipython",
    "version": 3
   },
   "file_extension": ".py",
   "mimetype": "text/x-python",
   "name": "python",
   "nbconvert_exporter": "python",
   "pygments_lexer": "ipython3",
   "version": "3.12.4"
  }
 },
 "nbformat": 4,
 "nbformat_minor": 5
}
