{
 "cells": [
  {
   "cell_type": "code",
   "execution_count": 3,
   "id": "26114989",
   "metadata": {},
   "outputs": [],
   "source": [
    "import pandas as pd\n",
    "df =  pd.read_csv('estonia (1).csv')"
   ]
  },
  {
   "cell_type": "code",
   "execution_count": 4,
   "id": "0da1e223",
   "metadata": {},
   "outputs": [
    {
     "data": {
      "text/plain": [
       "{'FirstClass Died': 87.68844221105527,\n",
       " 'FirstClass Lived': 12.311557788944723,\n",
       " 'SecondClass Died': 79.79274611398964,\n",
       " 'SecondClass Lived': 20.207253886010363,\n",
       " 'Total Died': 86.14762386248736,\n",
       " 'Total Lived': 13.852376137512639}"
      ]
     },
     "execution_count": 4,
     "metadata": {},
     "output_type": "execute_result"
    }
   ],
   "source": [
    "classes = {\"P\" : [0, 0], \"C\" : [0, 0]}\n",
    "\n",
    "for i in range(len(df)):\n",
    "    passengerClass = df.loc[i][\"Category\"]\n",
    "    survived = df.loc[i][\"Survived\"]\n",
    "    classes[passengerClass][survived] += 1\n",
    "\n",
    "totalFirstClass = classes[\"P\"][0] + classes[\"P\"][1]\n",
    "totalSecondClass = classes[\"C\"][0] + classes[\"C\"][1]\n",
    "    \n",
    "survivorData = {\n",
    "    \"FirstClass Died\" : (classes[\"P\"][0] / totalFirstClass) * 100, \"FirstClass Lived\" : (classes[\"P\"][1] / totalFirstClass) * 100,\n",
    "    \"SecondClass Died\" : (classes[\"C\"][0] / totalSecondClass) * 100, \"SecondClass Lived\" : (classes[\"C\"][1] / totalSecondClass) * 100,\n",
    "    \"Total Died\" : ((classes[\"P\"][0] + classes[\"C\"][0]) / (totalFirstClass + totalSecondClass)) * 100, \"Total Lived\" : ((classes[\"P\"][1] + classes[\"C\"][1]) / (totalFirstClass + totalSecondClass)) * 100\n",
    "}\n",
    "\n",
    "survivorData"
   ]
  },
  {
   "cell_type": "code",
   "execution_count": null,
   "id": "9c380b8f",
   "metadata": {},
   "outputs": [],
   "source": []
  }
 ],
 "metadata": {
  "kernelspec": {
   "display_name": "Python 3 (ipykernel)",
   "language": "python",
   "name": "python3"
  },
  "language_info": {
   "codemirror_mode": {
    "name": "ipython",
    "version": 3
   },
   "file_extension": ".py",
   "mimetype": "text/x-python",
   "name": "python",
   "nbconvert_exporter": "python",
   "pygments_lexer": "ipython3",
   "version": "3.9.13"
  }
 },
 "nbformat": 4,
 "nbformat_minor": 5
}
