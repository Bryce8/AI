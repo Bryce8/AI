{
 "cells": [
  {
   "cell_type": "code",
   "execution_count": 1,
   "id": "382c3238-4dac-4190-a63d-6312d61891bf",
   "metadata": {},
   "outputs": [
    {
     "name": "stdout",
     "output_type": "stream",
     "text": [
      "Simulation of Removing a Marble from a Box (1000 Trials):\n",
      "Red marbles picked: 203 (20.30%)\n",
      "Blue marbles picked: 280 (28.00%)\n",
      "Green marbles picked: 517 (51.70%)\n"
     ]
    }
   ],
   "source": [
    "import random\n",
    "\n",
    "# Define marble quantities\n",
    "total_marbles = 100\n",
    "marble_counts = {'red': 20, 'blue': 30, 'green': total_marbles - (20 + 30)}\n",
    "\n",
    "# Create a list to represent all marbles in the box\n",
    "box = ['red'] * marble_counts['red'] + ['blue'] * marble_counts['blue'] + ['green'] * marble_counts['green']\n",
    "\n",
    "# Simulation of 1000 trials\n",
    "num_trials = 1000\n",
    "results = {'red': 0, 'blue': 0, 'green': 0}\n",
    "\n",
    "for _ in range(num_trials):\n",
    "    chosen_marble = random.choice(box)  # Select a random marble\n",
    "    results[chosen_marble] += 1  # Record the chosen marble color\n",
    "\n",
    "# Display summary of results\n",
    "print(\"Simulation of Removing a Marble from a Box (1000 Trials):\")\n",
    "for color, count in results.items():\n",
    "    print(f\"{color.capitalize()} marbles picked: {count} ({(count / num_trials) * 100:.2f}%)\")\n"
   ]
  },
  {
   "cell_type": "code",
   "execution_count": 3,
   "id": "ddfcd348-d59b-4dda-b9cd-75d4ffeaf33b",
   "metadata": {},
   "outputs": [
    {
     "name": "stdout",
     "output_type": "stream",
     "text": [
      "Expected number of boxes needed to collect all three pictures: 6.55\n"
     ]
    }
   ],
   "source": [
    "import random\n",
    "\n",
    "# Define probabilities for each athlete's picture\n",
    "pictures = {\n",
    "    'Tiger Woods': 0.20,\n",
    "    'Cristiano Ronaldo': 0.30,\n",
    "    'Serena Williams': 0.50\n",
    "}\n",
    "\n",
    "# Number of trials to run the simulation\n",
    "num_trials = 1000\n",
    "total_boxes = []\n",
    "\n",
    "for _ in range(num_trials):\n",
    "    collected_set = set()\n",
    "    boxes_bought = 0\n",
    "    \n",
    "    # Keep buying boxes until all three pictures are collected\n",
    "    while len(collected_set) < 3:\n",
    "        # Simulate buying a box and getting a random picture based on probabilities\n",
    "        random_number = random.random()\n",
    "        if random_number < pictures['Tiger Woods']:\n",
    "            collected_set.add('Tiger Woods')\n",
    "        elif random_number < pictures['Tiger Woods'] + pictures['Cristiano Ronaldo']:\n",
    "            collected_set.add('Cristiano Ronaldo')\n",
    "        else:\n",
    "            collected_set.add('Serena Williams')\n",
    "        \n",
    "        boxes_bought += 1\n",
    "    \n",
    "    # Store the number of boxes bought for this trial\n",
    "    total_boxes.append(boxes_bought)\n",
    "\n",
    "# Calculate the average number of boxes needed\n",
    "average_boxes_needed = sum(total_boxes) / num_trials\n",
    "\n",
    "# Display the result\n",
    "print(f\"Expected number of boxes needed to collect all three pictures: {average_boxes_needed:.2f}\")\n"
   ]
  },
  {
   "cell_type": "code",
   "execution_count": null,
   "id": "4e5d98a0-ca8e-4feb-9e9c-96d44a9b3033",
   "metadata": {},
   "outputs": [],
   "source": []
  }
 ],
 "metadata": {
  "kernelspec": {
   "display_name": "Python 3 (ipykernel)",
   "language": "python",
   "name": "python3"
  },
  "language_info": {
   "codemirror_mode": {
    "name": "ipython",
    "version": 3
   },
   "file_extension": ".py",
   "mimetype": "text/x-python",
   "name": "python",
   "nbconvert_exporter": "python",
   "pygments_lexer": "ipython3",
   "version": "3.12.4"
  }
 },
 "nbformat": 4,
 "nbformat_minor": 5
}
