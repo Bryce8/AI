{
 "cells": [
  {
   "cell_type": "code",
   "execution_count": 1,
   "id": "b3dcdbb2-c208-4f19-9ab0-dbc8568e0d2d",
   "metadata": {},
   "outputs": [
    {
     "name": "stdout",
     "output_type": "stream",
     "text": [
      "Empirical probability of drawing a queen: 0.0773\n"
     ]
    }
   ],
   "source": [
    "import random\n",
    "\n",
    "def simulate_queen_draw(num_trials):\n",
    "    # Define the deck: 4 queens in a 52-card deck\n",
    "    deck = ['queen'] * 4 + ['other'] * 48\n",
    "    queen_count = 0\n",
    "\n",
    "    # Perform the trials\n",
    "    for _ in range(num_trials):\n",
    "        # Shuffle and draw a card\n",
    "        random.shuffle(deck)\n",
    "        draw = random.choice(deck)\n",
    "        \n",
    "        # Check if the draw is a queen\n",
    "        if draw == 'queen':\n",
    "            queen_count += 1\n",
    "\n",
    "    # Calculate the empirical probability\n",
    "    empirical_probability = queen_count / num_trials\n",
    "    return empirical_probability\n",
    "\n",
    "# Set the number of trials (e.g., 10000 for a large sample size)\n",
    "num_trials = 10000\n",
    "empirical_probability = simulate_queen_draw(num_trials)\n",
    "\n",
    "print(f\"Empirical probability of drawing a queen: {empirical_probability}\")"
   ]
  }
 ],
 "metadata": {
  "kernelspec": {
   "display_name": "Python 3 (ipykernel)",
   "language": "python",
   "name": "python3"
  },
  "language_info": {
   "codemirror_mode": {
    "name": "ipython",
    "version": 3
   },
   "file_extension": ".py",
   "mimetype": "text/x-python",
   "name": "python",
   "nbconvert_exporter": "python",
   "pygments_lexer": "ipython3",
   "version": "3.12.4"
  }
 },
 "nbformat": 4,
 "nbformat_minor": 5
}
