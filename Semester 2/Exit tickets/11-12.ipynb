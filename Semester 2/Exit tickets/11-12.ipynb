{
 "cells": [
  {
   "cell_type": "code",
   "execution_count": 1,
   "id": "e73027f4-f0f9-448b-94d7-f35e8d62f729",
   "metadata": {},
   "outputs": [
    {
     "name": "stdout",
     "output_type": "stream",
     "text": [
      "                     Team Wins\n",
      "0           Boston Bruins   24\n",
      "1          Buffalo Sabres   30\n",
      "2          Calgary Flames   26\n",
      "3      Chicago Blackhawks   23\n",
      "4       Detroit Red Wings   38\n",
      "5         Edmonton Oilers   37\n",
      "6        Hartford Whalers   38\n",
      "7       Los Angeles Kings   24\n",
      "8   Minnesota North Stars   39\n",
      "9      Montreal Canadiens   30\n",
      "10      New Jersey Devils   33\n",
      "11     New York Islanders   45\n",
      "12       New York Rangers   31\n",
      "13    Philadelphia Flyers   37\n",
      "14    Pittsburgh Penguins   33\n",
      "15       Quebec Nordiques   50\n",
      "16        St. Louis Blues   22\n",
      "17    Toronto Maple Leafs   46\n",
      "18      Vancouver Canucks   43\n",
      "19    Washington Capitals   36\n",
      "20          Winnipeg Jets   43\n",
      "21          Boston Bruins   32\n",
      "22         Buffalo Sabres   37\n",
      "23         Calgary Flames   37\n",
      "24     Chicago Blackhawks   29\n"
     ]
    }
   ],
   "source": [
    "import requests\n",
    "from bs4 import BeautifulSoup\n",
    "import pandas as pd\n",
    "\n",
    "# URL of the page to scrape\n",
    "url = 'https://www.scrapethissite.com/pages/forms/'\n",
    "\n",
    "# Send an HTTP request to the URL\n",
    "response = requests.get(url)\n",
    "\n",
    "# Parse the HTML content using BeautifulSoup\n",
    "soup = BeautifulSoup(response.text, 'html.parser')\n",
    "\n",
    "# Locate the table containing team data\n",
    "teams_table = soup.find('table', {'class': 'table'})\n",
    "\n",
    "# Prepare lists to store extracted data\n",
    "team_names = []\n",
    "team_wins = []\n",
    "\n",
    "# Loop through table rows to extract team names and win counts\n",
    "for row in teams_table.find_all('tr')[1:]:  # Skipping the header row\n",
    "    columns = row.find_all('td')\n",
    "    if len(columns) > 1:  # Check if the row has the correct number of columns\n",
    "        team_name = columns[0].text.strip()\n",
    "        team_wins_count = columns[3].text.strip()  # Adjusted index for wins column\n",
    "        \n",
    "        team_names.append(team_name)\n",
    "        team_wins.append(team_wins_count)\n",
    "\n",
    "# Create a pandas DataFrame with the extracted data\n",
    "df = pd.DataFrame({\n",
    "    'Team': team_names,\n",
    "    'Wins': team_wins\n",
    "})\n",
    "\n",
    "# Display the DataFrame\n",
    "print(df)\n"
   ]
  },
  {
   "cell_type": "code",
   "execution_count": null,
   "id": "52b91613-5ba5-451d-9346-046c680c2ad8",
   "metadata": {},
   "outputs": [],
   "source": []
  }
 ],
 "metadata": {
  "kernelspec": {
   "display_name": "Python 3 (ipykernel)",
   "language": "python",
   "name": "python3"
  },
  "language_info": {
   "codemirror_mode": {
    "name": "ipython",
    "version": 3
   },
   "file_extension": ".py",
   "mimetype": "text/x-python",
   "name": "python",
   "nbconvert_exporter": "python",
   "pygments_lexer": "ipython3",
   "version": "3.12.4"
  }
 },
 "nbformat": 4,
 "nbformat_minor": 5
}
