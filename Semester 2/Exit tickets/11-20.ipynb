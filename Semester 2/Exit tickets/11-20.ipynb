{
 "cells": [
  {
   "cell_type": "code",
   "execution_count": 24,
   "id": "d6491b6a-3d5d-4c1b-b2bf-9c19ccd2e085",
   "metadata": {},
   "outputs": [
    {
     "name": "stdout",
     "output_type": "stream",
     "text": [
      "College Scorecard Links:\n",
      "https://www.apprenticeship.gov/apprenticeship-finder\n",
      "https://www.mynextmove.org\n",
      "https://trainingproviderresults.gov\n",
      "https://careeronestop.org\n",
      "https://www.bls.gov/ooh/\n",
      "https://studentaid.gov\n",
      "https://studentaid.gov/aid-estimator/\n",
      "https://studentaid.gov/h/apply-for-aid/fafsa\n",
      "https://www.vets.gov/gi-bill-comparison-tool\n",
      "/\n",
      "/data\n",
      "/search\n",
      "/compare\n",
      "/data\n",
      "https://github.com/RTICWDT/college-scorecard/releases\n",
      "mailto:scorecarddata@rti.org\n",
      "http://www2.ed.gov/notices/index.html?src=ft\n",
      "/data/glossary/\n",
      "http://www.ed.gov/\n",
      "mailto:scorecarddata@rti.org\n",
      "Failed to access https://www.bls.gov/ooh/. Status code: 403\n"
     ]
    }
   ],
   "source": [
    "import requests\n",
    "from bs4 import BeautifulSoup\n",
    "\n",
    "def scrape_collegescorecard():\n",
    "    url = \"https://collegescorecard.ed.gov/\"\n",
    "    response = requests.get(url)\n",
    "    if response.status_code == 200:\n",
    "        soup = BeautifulSoup(response.text, 'html.parser')\n",
    "        # Extract all hyperlinks from the homepage\n",
    "        links = [a['href'] for a in soup.find_all('a', href=True)]\n",
    "        print(\"College Scorecard Links:\")\n",
    "        for link in links:\n",
    "            print(link)\n",
    "    else:\n",
    "        print(f\"Failed to access {url}. Status code: {response.status_code}\")\n",
    "\n",
    "def scrape_bls():\n",
    "    url = \"https://www.bls.gov/ooh/\"\n",
    "    headers = {\n",
    "        \"User-Agent\": \"Mozilla/5.0 (Windows NT 10.0; Win64; x64) AppleWebKit/537.36 (KHTML, like Gecko) Chrome/114.0.0.0 Safari/537.36\",\n",
    "    }\n",
    "    response = requests.get(url, headers=headers)\n",
    "    if response.status_code == 200:\n",
    "        soup = BeautifulSoup(response.text, 'html.parser')\n",
    "        # Extract job categories from the Occupational Outlook Handbook\n",
    "        categories = soup.find_all('div', class_='ooh-group')\n",
    "        print(\"BLS Job Categories:\")\n",
    "        for category in categories:\n",
    "            title = category.find('a').get_text(strip=True)\n",
    "            link = category.find('a')['href']\n",
    "            print(f\"{title}: https://www.bls.gov{link}\")\n",
    "    else:\n",
    "        print(f\"Failed to access {url}. Status code: {response.status_code}\")\n",
    "\n",
    "# Run both scrapers\n",
    "scrape_collegescorecard()\n",
    "scrape_bls()\n"
   ]
  },
  {
   "cell_type": "code",
   "execution_count": null,
   "id": "46b7bd6d-49e2-4c77-b9d6-df6a5ea4b95d",
   "metadata": {},
   "outputs": [],
   "source": []
  },
  {
   "cell_type": "code",
   "execution_count": null,
   "id": "a6f7df10-d4e1-4ce4-84f6-63e5a8eb25ac",
   "metadata": {},
   "outputs": [],
   "source": []
  }
 ],
 "metadata": {
  "kernelspec": {
   "display_name": "Python 3 (ipykernel)",
   "language": "python",
   "name": "python3"
  },
  "language_info": {
   "codemirror_mode": {
    "name": "ipython",
    "version": 3
   },
   "file_extension": ".py",
   "mimetype": "text/x-python",
   "name": "python",
   "nbconvert_exporter": "python",
   "pygments_lexer": "ipython3",
   "version": "3.12.4"
  }
 },
 "nbformat": 4,
 "nbformat_minor": 5
}
