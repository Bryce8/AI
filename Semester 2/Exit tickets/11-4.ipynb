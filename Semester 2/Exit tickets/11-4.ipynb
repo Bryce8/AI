{
 "cells": [
  {
   "cell_type": "code",
   "execution_count": null,
   "id": "cdce2428-98a4-476b-a42e-fc5988988bb3",
   "metadata": {},
   "outputs": [],
   "source": [
    "import random\n",
    "\n",
    "def simulate_card_draws(trials=1000, target_cards={'Q', 'K'}):\n",
    "    # Initialize counter for successful outcomes (target cards)\n",
    "    success_count = 0\n",
    "\n",
    "    for _ in range(trials):\n",
    "        # Create a standard deck with 4 of each rank and shuffle it\n",
    "        deck = [str(rank) for rank in range(2, 11)] + ['J', 'Q', 'K', 'A']\n",
    "        deck *= 4  # Each rank has 4 cards in a standard deck\n",
    "        random.shuffle(deck)\n",
    "\n",
    "        # Draw a single card from the shuffled deck\n",
    "        drawn_card = random.choice(deck)\n",
    "\n",
    "        # Check if the drawn card is one of the target cards\n",
    "        if drawn_card in target_cards:\n",
    "            success_count += 1\n",
    "\n",
    "    # Calculate empirical probability\n",
    "    empirical_probability = success_count / trials\n",
    "    return empirical_probability\n",
    "\n",
    "# Run the simulation with 1,000 trials and print the result\n",
    "print(simulate_card_draws())\n"
   ]
  }
 ],
 "metadata": {
  "kernelspec": {
   "display_name": "Python 3 (ipykernel)",
   "language": "python",
   "name": "python3"
  },
  "language_info": {
   "codemirror_mode": {
    "name": "ipython",
    "version": 3
   },
   "file_extension": ".py",
   "mimetype": "text/x-python",
   "name": "python",
   "nbconvert_exporter": "python",
   "pygments_lexer": "ipython3",
   "version": "3.12.4"
  }
 },
 "nbformat": 4,
 "nbformat_minor": 5
}
