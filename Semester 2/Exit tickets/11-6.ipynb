{
 "cells": [
  {
   "cell_type": "code",
   "execution_count": 3,
   "id": "3b4efa89-938c-4230-92ba-f9b36b4161be",
   "metadata": {},
   "outputs": [
    {
     "name": "stdout",
     "output_type": "stream",
     "text": [
      "Empirical Probability of drawing a queen or a heart: 0.3141\n"
     ]
    }
   ],
   "source": [
    "import random\n",
    "\n",
    "def simulate_card_draws(trials=10000):\n",
    "    # Define the deck with each card represented as a tuple (rank, suit)\n",
    "    suits = ['hearts', 'diamonds', 'clubs', 'spades']\n",
    "    ranks = ['2', '3', '4', '5', '6', '7', '8', '9', '10', 'J', 'Q', 'K', 'A']\n",
    "    deck = [(rank, suit) for suit in suits for rank in ranks]\n",
    "    \n",
    "    # Set the conditions: either a queen or a heart\n",
    "    target_ranks = {'Q'}\n",
    "    target_suit = 'hearts'\n",
    "    \n",
    "    # Counter for successful outcomes\n",
    "    success_count = 0\n",
    "\n",
    "    for _ in range(trials):\n",
    "        # Shuffle the deck and draw a single card\n",
    "        random.shuffle(deck)\n",
    "        drawn_card = random.choice(deck)\n",
    "        \n",
    "        # Check if the drawn card is a queen or a heart\n",
    "        if drawn_card[0] in target_ranks or drawn_card[1] == target_suit:\n",
    "            success_count += 1\n",
    "\n",
    "    # Calculate empirical probability\n",
    "    empirical_probability = success_count / trials\n",
    "    return empirical_probability\n",
    "\n",
    "# Run the simulation with 10,000 trials\n",
    "empirical_probability = simulate_card_draws()\n",
    "print(f\"Empirical Probability of drawing a queen or a heart: {empirical_probability}\")\n"
   ]
  },
  {
   "cell_type": "code",
   "execution_count": null,
   "id": "779b32b3-b432-4fb5-bb45-8c3e847b129b",
   "metadata": {},
   "outputs": [],
   "source": []
  }
 ],
 "metadata": {
  "kernelspec": {
   "display_name": "Python 3 (ipykernel)",
   "language": "python",
   "name": "python3"
  },
  "language_info": {
   "codemirror_mode": {
    "name": "ipython",
    "version": 3
   },
   "file_extension": ".py",
   "mimetype": "text/x-python",
   "name": "python",
   "nbconvert_exporter": "python",
   "pygments_lexer": "ipython3",
   "version": "3.12.4"
  }
 },
 "nbformat": 4,
 "nbformat_minor": 5
}
