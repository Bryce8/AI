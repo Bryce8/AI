{
 "cells": [
  {
   "cell_type": "markdown",
   "id": "e72e548d",
   "metadata": {},
   "source": [
    "# Choose a Data Set\n",
    "\n",
    "You can choose to analyze any data that you would like! Remember, you need 1000 rows of non-null data in order to get 5 points for the \"Data\" criteria of my [rubric](https://docs.google.com/document/d/1s3wllcF3LLnytxwD8mZ-BCypXKnfaahnizWGNojT-B4/edit?usp=sharing). Consider looking at [Kaggle](https://www.kaggle.com/datasets) or [free APIs](https://free-apis.github.io/#/browse) for datasets of this size. Alternatively, you can scrape the web to make your own dataset! :D\n",
    "\n",
    "Once you have chosen your dataset, please read your data into a dataframe and call `.info()` below. If you don't call `info` I will give you 0 points for the first criteria described on the [rubric](https://docs.google.com/document/d/1s3wllcF3LLnytxwD8mZ-BCypXKnfaahnizWGNojT-B4/edit?usp=sharing)."
   ]
  },
  {
   "cell_type": "markdown",
   "id": "109e5f57",
   "metadata": {},
   "source": [
    "# My Question"
   ]
  },
  {
   "cell_type": "markdown",
   "id": "94af0ecd",
   "metadata": {},
   "source": [
    "### How do the frequency and timing of public and school holiday celebrations vary across countries?"
   ]
  },
  {
   "cell_type": "markdown",
   "id": "9070cec5",
   "metadata": {},
   "source": [
    "# My Analysis"
   ]
  },
  {
   "cell_type": "code",
   "execution_count": 1,
   "id": "1fbfebe3",
   "metadata": {},
   "outputs": [
    {
     "name": "stdout",
     "output_type": "stream",
     "text": [
      "Fetching holidays for AD...\n",
      "Fetching holidays for AL...\n",
      "Fetching holidays for AT...\n",
      "Fetching holidays for BE...\n",
      "Fetching holidays for BG...\n",
      "Fetching holidays for BY...\n",
      "Fetching holidays for CH...\n",
      "Fetching holidays for CZ...\n",
      "Fetching holidays for DE...\n",
      "Fetching holidays for EE...\n",
      "Fetching holidays for ES...\n",
      "Fetching holidays for FR...\n",
      "Fetching holidays for HR...\n",
      "Fetching holidays for HU...\n",
      "Fetching holidays for IE...\n",
      "Fetching holidays for IT...\n",
      "Fetching holidays for LI...\n",
      "Fetching holidays for LT...\n",
      "Fetching holidays for LU...\n",
      "Fetching holidays for LV...\n",
      "Fetching holidays for MC...\n",
      "Fetching holidays for MD...\n",
      "Fetching holidays for MT...\n",
      "Fetching holidays for NL...\n",
      "Fetching holidays for PL...\n",
      "Fetching holidays for PT...\n",
      "Fetching holidays for RO...\n",
      "Fetching holidays for RS...\n",
      "Fetching holidays for SI...\n",
      "Fetching holidays for SK...\n",
      "Fetching holidays for SM...\n",
      "Fetching holidays for VA...\n",
      "Total data points: 3907\n",
      "<class 'pandas.core.frame.DataFrame'>\n",
      "RangeIndex: 3907 entries, 0 to 3906\n",
      "Data columns (total 5 columns):\n",
      " #   Column       Non-Null Count  Dtype         \n",
      "---  ------       --------------  -----         \n",
      " 0   country      3907 non-null   object        \n",
      " 1   date         3907 non-null   datetime64[ns]\n",
      " 2   name         3907 non-null   object        \n",
      " 3   type         3907 non-null   object        \n",
      " 4   subdivision  3907 non-null   object        \n",
      "dtypes: datetime64[ns](1), object(4)\n",
      "memory usage: 152.7+ KB\n",
      "None\n",
      "country\n",
      "AD     61\n",
      "AL     57\n",
      "AT     85\n",
      "BE     90\n",
      "BG     75\n",
      "BY     40\n",
      "CH    560\n",
      "CZ     82\n",
      "DE    397\n",
      "EE     52\n",
      "ES    594\n",
      "FR     97\n",
      "HR     56\n",
      "HU     46\n",
      "IE     45\n",
      "IT    170\n",
      "LI     64\n",
      "LT     58\n",
      "LU     55\n",
      "LV     59\n",
      "MC     57\n",
      "MD     55\n",
      "MT     65\n",
      "NL     61\n",
      "PL     60\n",
      "PT    479\n",
      "RO     69\n",
      "RS     41\n",
      "SI     68\n",
      "SK     67\n",
      "SM     64\n",
      "VA     78\n",
      "dtype: int64\n"
     ]
    },
    {
     "data": {
      "image/png": "[encoded data removed]",
      "text/plain": [
       "<Figure size 640x480 with 1 Axes>"
      ]
     },
     "metadata": {},
     "output_type": "display_data"
    },
    {
     "name": "stdout",
     "output_type": "stream",
     "text": [
      "5-Number Summary of Holidays:\n",
      "count     32.000000\n",
      "mean     122.093750\n",
      "std      152.243514\n",
      "min       40.000000\n",
      "25%       56.750000\n",
      "50%       64.000000\n",
      "75%       82.750000\n",
      "max      594.000000\n",
      "dtype: float64\n"
     ]
    }
   ],
   "source": [
    "import requests\n",
    "import pandas as pd\n",
    "import matplotlib.pyplot as plt\n",
    "\n",
    "# Fetch holidays function\n",
    "def fetch_holidays(endpoint, country_code, valid_from, valid_to):\n",
    "    url = f\"https://openholidaysapi.org/{endpoint}?countryIsoCode={country_code}&validFrom={valid_from}&validTo={valid_to}\"\n",
    "    response = requests.get(url)\n",
    "    if response.status_code == 200:\n",
    "        try:\n",
    "            return response.json()\n",
    "        except Exception as e:\n",
    "            print(f\"Error parsing JSON for {endpoint} in {country_code}: {e}\")\n",
    "            return []\n",
    "    else:\n",
    "        print(f\"Failed to fetch {endpoint} for {country_code}: {response.status_code}\")\n",
    "        return []\n",
    "\n",
    "# Parameters\n",
    "valid_from = \"2022-01-01\"\n",
    "valid_to = \"2024-12-31\"\n",
    "\n",
    "# Fetch list of supported countries\n",
    "response = requests.get(\"https://openholidaysapi.org/Countries\")\n",
    "if response.status_code == 200:\n",
    "    countries = [country[\"isoCode\"] for country in response.json()]\n",
    "else:\n",
    "    print(\"Failed to fetch countries list\")\n",
    "    countries = []\n",
    "\n",
    "# Initialize data storage\n",
    "all_holidays = []\n",
    "\n",
    "# Fetch data for each country\n",
    "for country_code in countries:\n",
    "    print(f\"Fetching holidays for {country_code}...\")\n",
    "    public_holidays = fetch_holidays(\"PublicHolidays\", country_code, valid_from, valid_to)\n",
    "    school_holidays = fetch_holidays(\"SchoolHolidays\", country_code, valid_from, valid_to)\n",
    "\n",
    "    # Process public holidays\n",
    "    for holiday in public_holidays:\n",
    "        all_holidays.append({\n",
    "            \"country\": country_code,\n",
    "            \"date\": holiday.get(\"startDate\"),\n",
    "            \"name\": holiday.get(\"name\")[0][\"text\"] if holiday.get(\"name\") else \"Unknown\",\n",
    "            \"type\": \"Public\",\n",
    "            \"subdivision\": holiday.get(\"subdivisions\", [{}])[0].get(\"shortName\", \"National\"),\n",
    "        })\n",
    "\n",
    "    # Process school holidays\n",
    "    for holiday in school_holidays:\n",
    "        all_holidays.append({\n",
    "            \"country\": country_code,\n",
    "            \"date\": holiday.get(\"startDate\"),\n",
    "            \"name\": holiday.get(\"name\")[0][\"text\"] if holiday.get(\"name\") else \"Unknown\",\n",
    "            \"type\": \"School\",\n",
    "            \"subdivision\": holiday.get(\"subdivisions\", [{}])[0].get(\"shortName\", \"National\"),\n",
    "        })\n",
    "\n",
    "# Create DataFrame\n",
    "df = pd.DataFrame(all_holidays)\n",
    "\n",
    "# Clean and format data\n",
    "df[\"date\"] = pd.to_datetime(df[\"date\"], errors=\"coerce\")\n",
    "df = df.dropna(subset=[\"date\"])  # Remove rows with invalid dates\n",
    "\n",
    "# Save dataset\n",
    "df.to_csv(\"holidays.csv\", index=False)\n",
    "\n",
    "# Summary\n",
    "print(f\"Total data points: {len(df)}\")\n",
    "print(df.info())\n",
    "\n",
    "# Frequency Table\n",
    "holiday_counts = df.groupby(\"country\").size()\n",
    "print(holiday_counts)\n",
    "\n",
    "# Bar Chart\n",
    "top_10_countries = holiday_counts.nlargest(10)\n",
    "top_10_countries.plot(kind=\"bar\", title=\"Top 10 Countries with Most Holidays\", ylabel=\"Total Holidays\", xlabel=\"Country\")\n",
    "plt.show()\n",
    "\n",
    "# 5-Number Summary\n",
    "summary = holiday_counts.describe()\n",
    "print(\"5-Number Summary of Holidays:\")\n",
    "print(summary)\n"
   ]
  },
  {
   "cell_type": "code",
   "execution_count": null,
   "id": "c63243a7-3778-4c4e-913f-eab1793d7ad1",
   "metadata": {},
   "outputs": [],
   "source": []
  },
  {
   "cell_type": "markdown",
   "id": "b5a374a3",
   "metadata": {},
   "source": [
    "# My Answer"
   ]
  },
  {
   "cell_type": "markdown",
   "id": "2cadbfec",
   "metadata": {},
   "source": [
    "### Spain has the most holidays of all the countries, with 594 total celebrations across the regions. Switzerland comes next with 560 holidays, and Portugal follows with 479. Germany is fourth with 397 holidays, while Italy, France, Belgium, Austria, Czechia, and Vatican City make up the rest of the top ten. This data shows that some countries celebrate significantly more holidays than others, depending on their traditions and culture. \r\n",
    "On average, countries have about 122 holid celebrationays, but this number isn’t the whole story. Some countries, like Spain, have a lot more, while others, like Belarus, only have around 40. The middle value, or median, is 64, meaning more than half the countries have fewer than the average. Thidifference s happens because a few countries witmany f holidays make the averagnumber of holiday celebrations e seem higher than it really is for most place \r\n",
    "\r\n",
    "Looking at this dhighlights how somerregionsrhave more recognized celebrations and ate holidthan otherswwer. Tvariability his could be because of differences in culture, religion, or how countries organize their school and public holidays. Overall i iinteresting to discover see different locations seem to valuemuch holicelebrations in different ways, evidenced by the variance in the spread of the number of holiday celebrationsvary around the world!"
   ]
  },
  {
   "cell_type": "code",
   "execution_count": null,
   "id": "c8d1ab23-cdd0-4e13-a51b-81932a9c3012",
   "metadata": {},
   "outputs": [],
   "source": []
  }
 ],
 "metadata": {
  "kernelspec": {
   "display_name": "Python 3 (ipykernel)",
   "language": "python",
   "name": "python3"
  },
  "language_info": {
   "codemirror_mode": {
    "name": "ipython",
    "version": 3
   },
   "file_extension": ".py",
   "mimetype": "text/x-python",
   "name": "python",
   "nbconvert_exporter": "python",
   "pygments_lexer": "ipython3",
   "version": "3.12.4"
  }
 },
 "nbformat": 4,
 "nbformat_minor": 5
}
